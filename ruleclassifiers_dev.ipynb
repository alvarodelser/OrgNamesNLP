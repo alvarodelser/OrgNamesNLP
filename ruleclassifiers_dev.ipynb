{
 "cells": [
  {
   "cell_type": "code",
   "id": "initial_id",
   "metadata": {
    "collapsed": true
   },
   "source": [
    "import pandas as pd\n",
    "import ast\n",
    "import matplotlib.pyplot as plt\n",
    "from dateutil.zoneinfo.rebuild import rebuild\n",
    "from wikdict_compound import make_db\n",
    "\n",
    "from orgpackage.dataprocesser import load_dataset\n",
    "\n",
    "%load_ext autoreload\n",
    "%autoreload 2\n",
    "\n",
    "\n",
    "df = load_dataset(\"data/wikidata_enriched_dataset.csv\")\n",
    "display(df.head(25))"
   ],
   "outputs": [],
   "execution_count": null
  },
  {
   "metadata": {},
   "cell_type": "code",
   "source": [
    "from orgpackage.ruleclassifier import tokenize\n",
    "tokenize(df)"
   ],
   "id": "bbdbd043a7cc0db1",
   "outputs": [],
   "execution_count": null
  },
  {
   "metadata": {},
   "cell_type": "code",
   "source": [
    "\n",
    "import orgpackage.ruleclassifier as oprc\n",
    "import importlib\n",
    "importlib.reload(oprc)\n",
    "print(oprc.word_counter_algorithm(df['names'].apply(lambda x: x[0]).to_list(), df['primary school']))"
   ],
   "id": "5137f2dd9554339d",
   "outputs": [],
   "execution_count": null
  },
  {
   "metadata": {},
   "cell_type": "code",
   "source": "print(oprc.select_k_best_words(df['names'].apply(lambda x: x[0]), 'english', df['primary school']))",
   "id": "b119328b05d12130",
   "outputs": [],
   "execution_count": null
  },
  {
   "metadata": {},
   "cell_type": "code",
   "source": "print(oprc.country_word_generator(df, 'primary school'))",
   "id": "fe08835aa097ec37",
   "outputs": [],
   "execution_count": null
  },
  {
   "metadata": {},
   "cell_type": "code",
   "source": [
    "from wikdict_compound import split_compound, make_db\n",
    "lang = 'it'\n",
    "input_path = './data/wikdict_dbs/input/'\n",
    "output_path = './data/wikdict_dbs/output'\n",
    "#make_db(lang, input_path, output_path)"
   ],
   "id": "7690e473e4fc8fc6",
   "outputs": [],
   "execution_count": null
  },
  {
   "metadata": {},
   "cell_type": "code",
   "source": [
    "from wikdict_compound import split_compound, make_db\n",
    "solution = split_compound(db_path='data/wikdict_dbs/output', lang='es', compound='ciempies')\n",
    "decomposed_word = \" \".join([part.written_rep for part in solution.parts]) if solution.parts else 'no'\n",
    "print(decomposed_word)"
   ],
   "id": "a58ce9019d8cba9",
   "outputs": [],
   "execution_count": null
  },
  {
   "metadata": {},
   "cell_type": "code",
   "source": [
    "import sqlite3\n",
    "\n",
    "conn = sqlite3.connect(output_path+'/de-compound.sqlite3')\n",
    "cursor = conn.cursor()\n",
    "\n",
    "cursor.execute(\"SELECT name FROM sqlite_master WHERE type='table';\")\n",
    "tables = cursor.fetchall()\n",
    "\n",
    "print(\"Tables in database:\", tables)\n",
    "conn.close()"
   ],
   "id": "dcce6ed5e748b6e1",
   "outputs": [],
   "execution_count": null
  },
  {
   "metadata": {},
   "cell_type": "code",
   "source": [
    "from orgpackage.ruleclassifier import *\n",
    "rebuild_wikdict_databases()"
   ],
   "id": "b0b43bab318a285",
   "outputs": [],
   "execution_count": null
  },
  {
   "metadata": {},
   "cell_type": "code",
   "source": [
    "from orgpackage.ruleclassifier import *\n",
    "\n",
    "%load_ext autoreload\n",
    "%autoreload 2\n",
    "df = pd.read_csv(\"./data/wikidata_enriched_dataset.csv\", usecols=['instance', 'names', 'country'])\n",
    "decompose_names(df)"
   ],
   "id": "3efb5174206c67d5",
   "outputs": [],
   "execution_count": null
  },
  {
   "metadata": {},
   "cell_type": "code",
   "source": "",
   "id": "b6b04ef10c60a94e",
   "outputs": [],
   "execution_count": null
  },
  {
   "metadata": {
    "jupyter": {
     "is_executing": true
    },
    "ExecuteTime": {
     "start_time": "2025-03-21T10:37:23.981811Z"
    }
   },
   "cell_type": "code",
   "source": "",
   "id": "af9593bfd2810052",
   "outputs": [
    {
     "name": "stdout",
     "output_type": "stream",
     "text": [
      "Downloading https://dl.fbaipublicfiles.com/fasttext/vectors-crawl/cc.es.300.bin.gz\n",
      " (0.00%) [>                                                  ]\r"
     ]
    }
   ],
   "execution_count": null
  },
  {
   "metadata": {},
   "cell_type": "code",
   "outputs": [],
   "execution_count": null,
   "source": "",
   "id": "38e13c758d39a297"
  }
 ],
 "metadata": {
  "kernelspec": {
   "display_name": "Python 3",
   "language": "python",
   "name": "python3"
  },
  "language_info": {
   "codemirror_mode": {
    "name": "ipython",
    "version": 2
   },
   "file_extension": ".py",
   "mimetype": "text/x-python",
   "name": "python",
   "nbconvert_exporter": "python",
   "pygments_lexer": "ipython2",
   "version": "2.7.6"
  }
 },
 "nbformat": 4,
 "nbformat_minor": 5
}
