{
 "cells": [
  {
   "metadata": {
    "ExecuteTime": {
     "end_time": "2025-02-03T22:55:36.248825Z",
     "start_time": "2025-02-03T22:55:36.224051Z"
    }
   },
   "cell_type": "code",
   "source": [
    "import ast\n",
    "\n",
    "import pandas as pd\n",
    "import capackage as ca\n",
    "%load_ext autoreload\n",
    "%autoreload 2"
   ],
   "id": "4a63acb907ed2cc5",
   "outputs": [
    {
     "ename": "ModuleNotFoundError",
     "evalue": "No module named 'gensim'",
     "output_type": "error",
     "traceback": [
      "\u001B[0;31m---------------------------------------------------------------------------\u001B[0m",
      "\u001B[0;31mModuleNotFoundError\u001B[0m                       Traceback (most recent call last)",
      "Cell \u001B[0;32mIn[5], line 5\u001B[0m\n\u001B[1;32m      3\u001B[0m \u001B[38;5;28;01mfrom\u001B[39;00m \u001B[38;5;21;01mIPython\u001B[39;00m\u001B[38;5;21;01m.\u001B[39;00m\u001B[38;5;21;01mcore\u001B[39;00m\u001B[38;5;21;01m.\u001B[39;00m\u001B[38;5;21;01mpylabtools\u001B[39;00m \u001B[38;5;28;01mimport\u001B[39;00m figsize\n\u001B[1;32m      4\u001B[0m \u001B[38;5;28;01mimport\u001B[39;00m \u001B[38;5;21;01mpandas\u001B[39;00m \u001B[38;5;28;01mas\u001B[39;00m \u001B[38;5;21;01mpd\u001B[39;00m\n\u001B[0;32m----> 5\u001B[0m \u001B[38;5;28;01mimport\u001B[39;00m \u001B[38;5;21;01mcapackage\u001B[39;00m \u001B[38;5;28;01mas\u001B[39;00m \u001B[38;5;21;01mca\u001B[39;00m\n\u001B[1;32m      6\u001B[0m get_ipython()\u001B[38;5;241m.\u001B[39mrun_line_magic(\u001B[38;5;124m'\u001B[39m\u001B[38;5;124mload_ext\u001B[39m\u001B[38;5;124m'\u001B[39m, \u001B[38;5;124m'\u001B[39m\u001B[38;5;124mautoreload\u001B[39m\u001B[38;5;124m'\u001B[39m)\n\u001B[1;32m      7\u001B[0m get_ipython()\u001B[38;5;241m.\u001B[39mrun_line_magic(\u001B[38;5;124m'\u001B[39m\u001B[38;5;124mautoreload\u001B[39m\u001B[38;5;124m'\u001B[39m, \u001B[38;5;124m'\u001B[39m\u001B[38;5;124m2\u001B[39m\u001B[38;5;124m'\u001B[39m)\n",
      "File \u001B[0;32m~/Projects/Organization Names Comprehension/capackage/__init__.py:5\u001B[0m\n\u001B[1;32m      2\u001B[0m \u001B[38;5;28;01mfrom\u001B[39;00m \u001B[38;5;21;01m.\u001B[39;00m\u001B[38;5;21;01mdata_reconciliation\u001B[39;00m \u001B[38;5;28;01mimport\u001B[39;00m (load_opensearch_data, load_sparql_data, load_osm_data, get_coords_request,\n\u001B[1;32m      3\u001B[0m                                   get_coords_api,compute_edit_distance, coordinates_to_map, clean_wd_data)\n\u001B[0;32m----> 5\u001B[0m \u001B[38;5;28;01mfrom\u001B[39;00m \u001B[38;5;21;01m.\u001B[39;00m\u001B[38;5;21;01mclassifiers\u001B[39;00m \u001B[38;5;28;01mimport\u001B[39;00m (reg_exp_classifier, generate_optimal_regex_patterns, reg_exp_classifier_auto,\n\u001B[1;32m      6\u001B[0m                           zero_shot_classifier_binary, zero_shot_classifier,\n\u001B[1;32m      7\u001B[0m                           semantic_similarity_classifier_binary, semantic_similarity_classifier,\n\u001B[1;32m      8\u001B[0m                           tfidf_classifier, word2vec_classifier)\n\u001B[1;32m     10\u001B[0m \u001B[38;5;28;01mfrom\u001B[39;00m \u001B[38;5;21;01m.\u001B[39;00m\u001B[38;5;21;01mevaluation_pipeline\u001B[39;00m \u001B[38;5;28;01mimport\u001B[39;00m (get_train_test, evaluate_reg_exp, evaluate_0shot, evaluate_semantic_sim, evaluate_supervised, get_metrics, get_analytics, compare_models)\n\u001B[1;32m     12\u001B[0m __all__ \u001B[38;5;241m=\u001B[39m [\n\u001B[1;32m     13\u001B[0m     \u001B[38;5;124m'\u001B[39m\u001B[38;5;124mload_opensearch_data\u001B[39m\u001B[38;5;124m'\u001B[39m, \u001B[38;5;124m'\u001B[39m\u001B[38;5;124mload_sparql_data\u001B[39m\u001B[38;5;124m'\u001B[39m, \u001B[38;5;124m'\u001B[39m\u001B[38;5;124mload_osm_data\u001B[39m\u001B[38;5;124m'\u001B[39m, \u001B[38;5;124m'\u001B[39m\u001B[38;5;124mclean_wd_data\u001B[39m\u001B[38;5;124m'\u001B[39m,\n\u001B[1;32m     14\u001B[0m     \u001B[38;5;124m'\u001B[39m\u001B[38;5;124mget_coords_request\u001B[39m\u001B[38;5;124m'\u001B[39m, \u001B[38;5;124m'\u001B[39m\u001B[38;5;124mget_coords_api\u001B[39m\u001B[38;5;124m'\u001B[39m,\n\u001B[0;32m   (...)\u001B[0m\n\u001B[1;32m     22\u001B[0m     \u001B[38;5;124m'\u001B[39m\u001B[38;5;124mget_train_test\u001B[39m\u001B[38;5;124m'\u001B[39m, \u001B[38;5;124m'\u001B[39m\u001B[38;5;124mevaluate_reg_exp\u001B[39m\u001B[38;5;124m'\u001B[39m, \u001B[38;5;124m'\u001B[39m\u001B[38;5;124mevaluate_0shot\u001B[39m\u001B[38;5;124m'\u001B[39m, \u001B[38;5;124m'\u001B[39m\u001B[38;5;124mevaluate_semantic_sim\u001B[39m\u001B[38;5;124m'\u001B[39m, \u001B[38;5;124m'\u001B[39m\u001B[38;5;124mevaluate_supervised\u001B[39m\u001B[38;5;124m'\u001B[39m, \u001B[38;5;124m'\u001B[39m\u001B[38;5;124mget_analytics\u001B[39m\u001B[38;5;124m'\u001B[39m, \u001B[38;5;124m'\u001B[39m\u001B[38;5;124mcompare_models\u001B[39m\u001B[38;5;124m'\u001B[39m\n\u001B[1;32m     23\u001B[0m ]\n",
      "File \u001B[0;32m~/Projects/Organization Names Comprehension/capackage/classifiers.py:14\u001B[0m\n\u001B[1;32m     11\u001B[0m \u001B[38;5;28;01mfrom\u001B[39;00m \u001B[38;5;21;01msklearn\u001B[39;00m\u001B[38;5;21;01m.\u001B[39;00m\u001B[38;5;21;01mfeature_extraction\u001B[39;00m\u001B[38;5;21;01m.\u001B[39;00m\u001B[38;5;21;01mtext\u001B[39;00m \u001B[38;5;28;01mimport\u001B[39;00m TfidfVectorizer\n\u001B[1;32m     12\u001B[0m \u001B[38;5;28;01mfrom\u001B[39;00m \u001B[38;5;21;01msklearn\u001B[39;00m\u001B[38;5;21;01m.\u001B[39;00m\u001B[38;5;21;01mlinear_model\u001B[39;00m \u001B[38;5;28;01mimport\u001B[39;00m LogisticRegression\n\u001B[0;32m---> 14\u001B[0m \u001B[38;5;28;01mfrom\u001B[39;00m \u001B[38;5;21;01mgensim\u001B[39;00m\u001B[38;5;21;01m.\u001B[39;00m\u001B[38;5;21;01mmodels\u001B[39;00m \u001B[38;5;28;01mimport\u001B[39;00m Word2Vec\n\u001B[1;32m     17\u001B[0m \u001B[38;5;28;01mdef\u001B[39;00m \u001B[38;5;21mreg_exp_classifier\u001B[39m(hospital_names):\n\u001B[1;32m     18\u001B[0m     patterns \u001B[38;5;241m=\u001B[39m [\n\u001B[1;32m     19\u001B[0m         \u001B[38;5;66;03m# Spain\u001B[39;00m\n\u001B[1;32m     20\u001B[0m         \u001B[38;5;124mr\u001B[39m\u001B[38;5;124m\"\u001B[39m\u001B[38;5;124m(?=.*Universitario|Universidad|Clínico)(?!.*Centro de Salud)\u001B[39m\u001B[38;5;124m\"\u001B[39m,\n\u001B[0;32m   (...)\u001B[0m\n\u001B[1;32m     40\u001B[0m         \u001B[38;5;124mr\u001B[39m\u001B[38;5;124m\"\u001B[39m\u001B[38;5;124m(?=.*Πανεπιστημιακό Νοσοκομείο|Ιατρική Σχολή|Πανεπιστημιακό)(?!.*Κέντρο Υγείας)\u001B[39m\u001B[38;5;124m\"\u001B[39m\n\u001B[1;32m     41\u001B[0m     ]\n",
      "\u001B[0;31mModuleNotFoundError\u001B[0m: No module named 'gensim'"
     ]
    }
   ],
   "execution_count": 5
  },
  {
   "metadata": {
    "collapsed": true
   },
   "cell_type": "code",
   "source": [
    "import importlib\n",
    "importlib.reload(ca)"
   ],
   "id": "initial_id",
   "outputs": [],
   "execution_count": null
  },
  {
   "metadata": {},
   "cell_type": "code",
   "source": [
    "wd_df = ca.load_opensearch_data('ca_extraction.csv')\n",
    "print(len(wd_df))"
   ],
   "id": "efc4719b257b6fcc",
   "outputs": [],
   "execution_count": null
  },
  {
   "metadata": {},
   "cell_type": "code",
   "source": [
    "wd_df = ca.load_sparql_data()\n",
    "osm_df = ca.load_osm_data()\n",
    "\n",
    "m = ca.coordinates_to_map(wd_df['name'], wd_df['latitude'], wd_df['longitude'], 'blue')\n",
    "m = ca.coordinates_to_map(osm_df['name'], osm_df['latitude'], osm_df['longitude'], 'red', map_obj=m)\n",
    "\n",
    "m"
   ],
   "id": "8ed8fb905717ab37",
   "outputs": [],
   "execution_count": null
  },
  {
   "metadata": {},
   "cell_type": "code",
   "source": [
    "os_df = ca.load_opensearch_data('ca_extraction.csv')\n",
    "display(os_df)"
   ],
   "id": "4a6e58860a2c6e9b",
   "outputs": [],
   "execution_count": null
  },
  {
   "metadata": {
    "ExecuteTime": {
     "end_time": "2024-11-07T07:36:32.932656Z",
     "start_time": "2024-11-07T06:48:13.880907Z"
    }
   },
   "cell_type": "code",
   "source": [
    "train_test = ca.get_train_test()\n",
    "evaluation_df = pd.DataFrame(columns=['method', 'model', 'parameters' , 'labels', 'predictions'])\n",
    "evaluation_df = ca.evaluate_reg_exp(train_test, evaluation_df)\n",
    "evaluation_df = ca.evaluate_0shot(train_test, evaluation_df)\n",
    "evaluation_df = ca.evaluate_semantic_sim(train_test, evaluation_df)\n",
    "evaluation_df = ca.evaluate_supervised(train_test, evaluation_df)\n",
    "evaluation_df.to_csv('classification2.csv')\n",
    "display(ca.get_metrics(train_test, evaluation_df))"
   ],
   "id": "efece2b66f0e8167",
   "outputs": [
    {
     "name": "stdout",
     "output_type": "stream",
     "text": [
      "category\n",
      "hospital               2852\n",
      "university hospital     143\n",
      "Name: count, dtype: int64\n"
     ]
    },
    {
     "data": {
      "text/plain": [
       "<Figure size 300x50 with 1 Axes>"
      ],
      "image/png": "[encoded data removed]"
     },
     "metadata": {},
     "output_type": "display_data"
    },
    {
     "name": "stdout",
     "output_type": "stream",
     "text": [
      "Loading BART\n"
     ]
    },
    {
     "name": "stderr",
     "output_type": "stream",
     "text": [
      "Classifying: 100%|██████████| 599/599 [07:51<00:00,  1.27it/s]\n"
     ]
    },
    {
     "name": "stdout",
     "output_type": "stream",
     "text": [
      "Loading BART with threshold\n"
     ]
    },
    {
     "name": "stderr",
     "output_type": "stream",
     "text": [
      "Classifying: 100%|██████████| 599/599 [03:43<00:00,  2.68it/s]\n"
     ]
    },
    {
     "name": "stdout",
     "output_type": "stream",
     "text": [
      "Loading multilingual DeBERTa\n"
     ]
    },
    {
     "name": "stderr",
     "output_type": "stream",
     "text": [
      "Classifying: 100%|██████████| 599/599 [06:14<00:00,  1.60it/s]\n"
     ]
    },
    {
     "name": "stdout",
     "output_type": "stream",
     "text": [
      "Loading multilingual DeBERTa with threshold\n"
     ]
    },
    {
     "name": "stderr",
     "output_type": "stream",
     "text": [
      "Classifying: 100%|██████████| 599/599 [02:43<00:00,  3.67it/s]\n"
     ]
    },
    {
     "name": "stdout",
     "output_type": "stream",
     "text": [
      "Loading DistilBERT\n"
     ]
    },
    {
     "name": "stderr",
     "output_type": "stream",
     "text": [
      "Some weights of DistilBertForSequenceClassification were not initialized from the model checkpoint at distilbert-base-uncased and are newly initialized: ['classifier.bias', 'classifier.weight', 'pre_classifier.bias', 'pre_classifier.weight']\n",
      "You should probably TRAIN this model on a down-stream task to be able to use it for predictions and inference.\n",
      "Failed to determine 'entailment' label id from the label2id mapping in the model config. Setting to -1. Define a descriptive label2id mapping in the model config to ensure correct outputs.\n",
      "Classifying: 100%|██████████| 599/599 [00:51<00:00, 11.64it/s]\n"
     ]
    },
    {
     "name": "stdout",
     "output_type": "stream",
     "text": [
      "Loading DistilBERT with threshold\n"
     ]
    },
    {
     "name": "stderr",
     "output_type": "stream",
     "text": [
      "Classifying: 100%|██████████| 599/599 [00:25<00:00, 23.94it/s]\n"
     ]
    },
    {
     "name": "stdout",
     "output_type": "stream",
     "text": [
      "Loading RoBERTa\n"
     ]
    },
    {
     "name": "stderr",
     "output_type": "stream",
     "text": [
      "Some weights of the model checkpoint at roberta-large-mnli were not used when initializing RobertaForSequenceClassification: ['roberta.pooler.dense.bias', 'roberta.pooler.dense.weight']\n",
      "- This IS expected if you are initializing RobertaForSequenceClassification from the checkpoint of a model trained on another task or with another architecture (e.g. initializing a BertForSequenceClassification model from a BertForPreTraining model).\n",
      "- This IS NOT expected if you are initializing RobertaForSequenceClassification from the checkpoint of a model that you expect to be exactly identical (initializing a BertForSequenceClassification model from a BertForSequenceClassification model).\n",
      "Classifying: 100%|██████████| 599/599 [06:02<00:00,  1.65it/s]\n"
     ]
    },
    {
     "name": "stdout",
     "output_type": "stream",
     "text": [
      "Loading RoBERTa with threshold\n"
     ]
    },
    {
     "name": "stderr",
     "output_type": "stream",
     "text": [
      "Classifying: 100%|██████████| 599/599 [02:53<00:00,  3.45it/s]\n"
     ]
    },
    {
     "name": "stdout",
     "output_type": "stream",
     "text": [
      "Loading XLNet\n"
     ]
    },
    {
     "name": "stderr",
     "output_type": "stream",
     "text": [
      "Some weights of XLNetForSequenceClassification were not initialized from the model checkpoint at xlnet-large-cased and are newly initialized: ['logits_proj.bias', 'logits_proj.weight', 'sequence_summary.summary.bias', 'sequence_summary.summary.weight']\n",
      "You should probably TRAIN this model on a down-stream task to be able to use it for predictions and inference.\n",
      "Failed to determine 'entailment' label id from the label2id mapping in the model config. Setting to -1. Define a descriptive label2id mapping in the model config to ensure correct outputs.\n",
      "Classifying:   0%|          | 0/599 [00:00<?, ?it/s]Asking to truncate to max_length but no maximum length is provided and the model has no predefined maximum length. Default to no truncation.\n",
      "Classifying: 100%|██████████| 599/599 [08:02<00:00,  1.24it/s]\n"
     ]
    },
    {
     "name": "stdout",
     "output_type": "stream",
     "text": [
      "Loading XLNet with threshold\n"
     ]
    },
    {
     "name": "stderr",
     "output_type": "stream",
     "text": [
      "Classifying: 100%|██████████| 599/599 [03:55<00:00,  2.55it/s]\n"
     ]
    },
    {
     "name": "stdout",
     "output_type": "stream",
     "text": [
      "Loading MiniLM\n"
     ]
    },
    {
     "name": "stderr",
     "output_type": "stream",
     "text": [
      "Classifying: 100%|██████████| 599/599 [00:09<00:00, 62.34it/s]\n"
     ]
    },
    {
     "name": "stdout",
     "output_type": "stream",
     "text": [
      "Loading MiniLM with threshold\n"
     ]
    },
    {
     "name": "stderr",
     "output_type": "stream",
     "text": [
      "Classifying: 100%|██████████| 599/599 [00:09<00:00, 66.26it/s]\n"
     ]
    },
    {
     "name": "stdout",
     "output_type": "stream",
     "text": [
      "Loading All MiniLM\n"
     ]
    },
    {
     "name": "stderr",
     "output_type": "stream",
     "text": [
      "Classifying: 100%|██████████| 599/599 [00:09<00:00, 64.30it/s]\n"
     ]
    },
    {
     "name": "stdout",
     "output_type": "stream",
     "text": [
      "Loading All MiniLM with threshold\n"
     ]
    },
    {
     "name": "stderr",
     "output_type": "stream",
     "text": [
      "Classifying: 100%|██████████| 599/599 [00:09<00:00, 65.20it/s]\n"
     ]
    },
    {
     "name": "stdout",
     "output_type": "stream",
     "text": [
      "Loading RoBERTa\n"
     ]
    },
    {
     "name": "stderr",
     "output_type": "stream",
     "text": [
      "Classifying: 100%|██████████| 599/599 [00:41<00:00, 14.56it/s]\n"
     ]
    },
    {
     "name": "stdout",
     "output_type": "stream",
     "text": [
      "Loading RoBERTa with threshold\n"
     ]
    },
    {
     "name": "stderr",
     "output_type": "stream",
     "text": [
      "Classifying: 100%|██████████| 599/599 [00:42<00:00, 14.07it/s]\n"
     ]
    },
    {
     "name": "stdout",
     "output_type": "stream",
     "text": [
      "Loading XLM-R\n"
     ]
    },
    {
     "name": "stderr",
     "output_type": "stream",
     "text": [
      "Classifying: 100%|██████████| 599/599 [00:39<00:00, 15.20it/s]\n"
     ]
    },
    {
     "name": "stdout",
     "output_type": "stream",
     "text": [
      "Loading XLM-R with threshold\n"
     ]
    },
    {
     "name": "stderr",
     "output_type": "stream",
     "text": [
      "Classifying: 100%|██████████| 599/599 [00:41<00:00, 14.38it/s]\n"
     ]
    },
    {
     "name": "stdout",
     "output_type": "stream",
     "text": [
      "Loading Logistic Regression with params {'C': 1.0, 'solver': 'lbfgs'}\n",
      "Loading Logistic Regression with params {'C': 1.0, 'solver': 'liblinear'}\n",
      "Loading Logistic Regression with params {'C': 1.0, 'solver': 'newton-cg'}\n",
      "Loading Logistic Regression with params {'C': 0.1, 'solver': 'lbfgs'}\n",
      "Loading Logistic Regression with params {'C': 0.1, 'solver': 'liblinear'}\n",
      "Loading Logistic Regression with params {'C': 0.1, 'solver': 'newton-cg'}\n",
      "Loading Logistic Regression with params {'C': 0.01, 'solver': 'lbfgs'}\n",
      "Loading Logistic Regression with params {'C': 0.01, 'solver': 'liblinear'}\n",
      "Loading Logistic Regression with params {'C': 0.01, 'solver': 'newton-cg'}\n",
      "Loading Logistic Regression with params {'C': 10, 'solver': 'lbfgs'}\n",
      "Loading Logistic Regression with params {'C': 10, 'solver': 'liblinear'}\n",
      "Loading Logistic Regression with params {'C': 10, 'solver': 'newton-cg'}\n",
      "Loading Logistic Regression with params {'C': 100, 'solver': 'lbfgs'}\n",
      "Loading Logistic Regression with params {'C': 100, 'solver': 'liblinear'}\n",
      "Loading Logistic Regression with params {'C': 100, 'solver': 'newton-cg'}\n",
      "Loading Support Vector Classifier with params {'C': 1.0, 'kernel': 'linear'}\n",
      "Loading Support Vector Classifier with params {'C': 1.0, 'kernel': 'rbf'}\n",
      "Loading Support Vector Classifier with params {'C': 1.0, 'kernel': 'poly'}\n",
      "Loading Support Vector Classifier with params {'C': 1.0, 'kernel': 'sigmoid'}\n",
      "Loading Support Vector Classifier with params {'C': 0.1, 'kernel': 'linear'}\n",
      "Loading Support Vector Classifier with params {'C': 0.1, 'kernel': 'rbf'}\n",
      "Loading Support Vector Classifier with params {'C': 0.1, 'kernel': 'poly'}\n",
      "Loading Support Vector Classifier with params {'C': 0.1, 'kernel': 'sigmoid'}\n",
      "Loading Support Vector Classifier with params {'C': 0.01, 'kernel': 'linear'}\n",
      "Loading Support Vector Classifier with params {'C': 0.01, 'kernel': 'rbf'}\n",
      "Loading Support Vector Classifier with params {'C': 0.01, 'kernel': 'poly'}\n",
      "Loading Support Vector Classifier with params {'C': 0.01, 'kernel': 'sigmoid'}\n",
      "Loading Support Vector Classifier with params {'C': 10, 'kernel': 'linear'}\n",
      "Loading Support Vector Classifier with params {'C': 10, 'kernel': 'rbf'}\n",
      "Loading Support Vector Classifier with params {'C': 10, 'kernel': 'poly'}\n",
      "Loading Support Vector Classifier with params {'C': 10, 'kernel': 'sigmoid'}\n",
      "Loading Support Vector Classifier with params {'C': 100, 'kernel': 'linear'}\n",
      "Loading Support Vector Classifier with params {'C': 100, 'kernel': 'rbf'}\n",
      "Loading Support Vector Classifier with params {'C': 100, 'kernel': 'poly'}\n",
      "Loading Support Vector Classifier with params {'C': 100, 'kernel': 'sigmoid'}\n",
      "Loading Random Forest with params {'n_estimators': 100, 'max_depth': None}\n",
      "Loading Random Forest with params {'n_estimators': 100, 'max_depth': 5}\n",
      "Loading Random Forest with params {'n_estimators': 100, 'max_depth': 10}\n",
      "Loading Random Forest with params {'n_estimators': 100, 'max_depth': 20}\n",
      "Loading Random Forest with params {'n_estimators': 200, 'max_depth': None}\n",
      "Loading Random Forest with params {'n_estimators': 200, 'max_depth': 5}\n",
      "Loading Random Forest with params {'n_estimators': 200, 'max_depth': 10}\n",
      "Loading Random Forest with params {'n_estimators': 200, 'max_depth': 20}\n",
      "Loading Random Forest with params {'n_estimators': 500, 'max_depth': None}\n",
      "Loading Random Forest with params {'n_estimators': 500, 'max_depth': 5}\n",
      "Loading Random Forest with params {'n_estimators': 500, 'max_depth': 10}\n",
      "Loading Random Forest with params {'n_estimators': 500, 'max_depth': 20}\n",
      "Loading Logistic Regression with params {'C': 1.0, 'solver': 'lbfgs'}\n"
     ]
    },
    {
     "name": "stderr",
     "output_type": "stream",
     "text": [
      "Vectorizing: 100%|██████████| 2396/2396 [00:00<00:00, 32373.63it/s]\n",
      "Vectorizing: 100%|██████████| 599/599 [00:00<00:00, 29948.96it/s]\n"
     ]
    },
    {
     "name": "stdout",
     "output_type": "stream",
     "text": [
      "Loading Logistic Regression with params {'C': 1.0, 'solver': 'liblinear'}\n"
     ]
    },
    {
     "name": "stderr",
     "output_type": "stream",
     "text": [
      "Vectorizing: 100%|██████████| 2396/2396 [00:00<00:00, 34226.97it/s]\n",
      "Vectorizing: 100%|██████████| 599/599 [00:00<00:00, 35236.37it/s]\n"
     ]
    },
    {
     "name": "stdout",
     "output_type": "stream",
     "text": [
      "Loading Logistic Regression with params {'C': 1.0, 'solver': 'newton-cg'}\n"
     ]
    },
    {
     "name": "stderr",
     "output_type": "stream",
     "text": [
      "Vectorizing: 100%|██████████| 2396/2396 [00:00<00:00, 30669.83it/s]\n",
      "Vectorizing: 100%|██████████| 599/599 [00:00<00:00, 38336.00it/s]\n"
     ]
    },
    {
     "name": "stdout",
     "output_type": "stream",
     "text": [
      "Loading Logistic Regression with params {'C': 0.1, 'solver': 'lbfgs'}\n"
     ]
    },
    {
     "name": "stderr",
     "output_type": "stream",
     "text": [
      "Vectorizing: 100%|██████████| 2396/2396 [00:00<00:00, 30669.55it/s]\n",
      "Vectorizing: 100%|██████████| 599/599 [00:00<00:00, 38139.30it/s]\n"
     ]
    },
    {
     "name": "stdout",
     "output_type": "stream",
     "text": [
      "Loading Logistic Regression with params {'C': 0.1, 'solver': 'liblinear'}\n"
     ]
    },
    {
     "name": "stderr",
     "output_type": "stream",
     "text": [
      "Vectorizing: 100%|██████████| 2396/2396 [00:00<00:00, 30669.64it/s]\n",
      "Vectorizing: 100%|██████████| 599/599 [00:00<00:00, 38341.85it/s]\n"
     ]
    },
    {
     "name": "stdout",
     "output_type": "stream",
     "text": [
      "Loading Logistic Regression with params {'C': 0.1, 'solver': 'newton-cg'}\n"
     ]
    },
    {
     "name": "stderr",
     "output_type": "stream",
     "text": [
      "Vectorizing: 100%|██████████| 2396/2396 [00:00<00:00, 25557.46it/s]\n",
      "Vectorizing: 100%|██████████| 599/599 [00:00<00:00, 38342.44it/s]\n"
     ]
    },
    {
     "name": "stdout",
     "output_type": "stream",
     "text": [
      "Loading Logistic Regression with params {'C': 0.01, 'solver': 'lbfgs'}\n"
     ]
    },
    {
     "name": "stderr",
     "output_type": "stream",
     "text": [
      "Vectorizing: 100%|██████████| 2396/2396 [00:00<00:00, 38337.17it/s]\n",
      "Vectorizing: 100%|██████████| 599/599 [00:00<00:00, 38338.93it/s]\n"
     ]
    },
    {
     "name": "stdout",
     "output_type": "stream",
     "text": [
      "Loading Logistic Regression with params {'C': 0.01, 'solver': 'liblinear'}\n"
     ]
    },
    {
     "name": "stderr",
     "output_type": "stream",
     "text": [
      "Vectorizing: 100%|██████████| 2396/2396 [00:00<00:00, 38336.29it/s]\n",
      "Vectorizing: 100%|██████████| 599/599 [00:00<00:00, 38338.93it/s]\n"
     ]
    },
    {
     "name": "stdout",
     "output_type": "stream",
     "text": [
      "Loading Logistic Regression with params {'C': 0.01, 'solver': 'newton-cg'}\n"
     ]
    },
    {
     "name": "stderr",
     "output_type": "stream",
     "text": [
      "Vectorizing: 100%|██████████| 2396/2396 [00:00<00:00, 30669.17it/s]\n",
      "Vectorizing: 100%|██████████| 599/599 [00:00<00:00, 38341.85it/s]\n"
     ]
    },
    {
     "name": "stdout",
     "output_type": "stream",
     "text": [
      "Loading Logistic Regression with params {'C': 10, 'solver': 'lbfgs'}\n"
     ]
    },
    {
     "name": "stderr",
     "output_type": "stream",
     "text": [
      "Vectorizing: 100%|██████████| 2396/2396 [00:00<00:00, 27411.36it/s]\n",
      "Vectorizing: 100%|██████████| 599/599 [00:00<00:00, 31525.83it/s]\n"
     ]
    },
    {
     "name": "stdout",
     "output_type": "stream",
     "text": [
      "Loading Logistic Regression with params {'C': 10, 'solver': 'liblinear'}\n"
     ]
    },
    {
     "name": "stderr",
     "output_type": "stream",
     "text": [
      "Vectorizing: 100%|██████████| 2396/2396 [00:00<00:00, 31944.31it/s]\n",
      "Vectorizing: 100%|██████████| 599/599 [00:00<00:00, 28518.11it/s]\n"
     ]
    },
    {
     "name": "stdout",
     "output_type": "stream",
     "text": [
      "Loading Logistic Regression with params {'C': 10, 'solver': 'newton-cg'}\n"
     ]
    },
    {
     "name": "stderr",
     "output_type": "stream",
     "text": [
      "Vectorizing: 100%|██████████| 2396/2396 [00:00<00:00, 25760.16it/s]\n",
      "Vectorizing: 100%|██████████| 599/599 [00:00<00:00, 27225.71it/s]\n"
     ]
    },
    {
     "name": "stdout",
     "output_type": "stream",
     "text": [
      "Loading Logistic Regression with params {'C': 100, 'solver': 'lbfgs'}\n"
     ]
    },
    {
     "name": "stderr",
     "output_type": "stream",
     "text": [
      "Vectorizing: 100%|██████████| 2396/2396 [00:00<00:00, 29947.35it/s]\n",
      "Vectorizing: 100%|██████████| 599/599 [00:00<00:00, 27231.90it/s]\n"
     ]
    },
    {
     "name": "stdout",
     "output_type": "stream",
     "text": [
      "Loading Logistic Regression with params {'C': 100, 'solver': 'liblinear'}\n"
     ]
    },
    {
     "name": "stderr",
     "output_type": "stream",
     "text": [
      "Vectorizing: 100%|██████████| 2396/2396 [00:00<00:00, 27858.31it/s]\n",
      "Vectorizing: 100%|██████████| 599/599 [00:00<00:00, 27227.48it/s]\n"
     ]
    },
    {
     "name": "stdout",
     "output_type": "stream",
     "text": [
      "Loading Logistic Regression with params {'C': 100, 'solver': 'newton-cg'}\n"
     ]
    },
    {
     "name": "stderr",
     "output_type": "stream",
     "text": [
      "Vectorizing: 100%|██████████| 2396/2396 [00:00<00:00, 31114.42it/s]\n",
      "Vectorizing: 100%|██████████| 599/599 [00:00<00:00, 27228.36it/s]\n"
     ]
    },
    {
     "name": "stdout",
     "output_type": "stream",
     "text": [
      "Loading Support Vector Classifier with params {'C': 1.0, 'kernel': 'linear'}\n"
     ]
    },
    {
     "name": "stderr",
     "output_type": "stream",
     "text": [
      "Vectorizing: 100%|██████████| 2396/2396 [00:00<00:00, 29948.24it/s]\n",
      "Vectorizing: 100%|██████████| 599/599 [00:00<00:00, 33276.66it/s]\n"
     ]
    },
    {
     "name": "stdout",
     "output_type": "stream",
     "text": [
      "Loading Support Vector Classifier with params {'C': 1.0, 'kernel': 'rbf'}\n"
     ]
    },
    {
     "name": "stderr",
     "output_type": "stream",
     "text": [
      "Vectorizing: 100%|██████████| 2396/2396 [00:00<00:00, 29890.70it/s]\n",
      "Vectorizing: 100%|██████████| 599/599 [00:00<00:00, 38311.45it/s]\n"
     ]
    },
    {
     "name": "stdout",
     "output_type": "stream",
     "text": [
      "Loading Support Vector Classifier with params {'C': 1.0, 'kernel': 'poly'}\n"
     ]
    },
    {
     "name": "stderr",
     "output_type": "stream",
     "text": [
      "Vectorizing: 100%|██████████| 2396/2396 [00:00<00:00, 22418.18it/s]\n",
      "Vectorizing: 100%|██████████| 599/599 [00:00<00:00, 19162.30it/s]\n"
     ]
    },
    {
     "name": "stdout",
     "output_type": "stream",
     "text": [
      "Loading Support Vector Classifier with params {'C': 1.0, 'kernel': 'sigmoid'}\n"
     ]
    },
    {
     "name": "stderr",
     "output_type": "stream",
     "text": [
      "Vectorizing: 100%|██████████| 2396/2396 [00:00<00:00, 30671.61it/s]\n",
      "Vectorizing: 100%|██████████| 599/599 [00:00<00:00, 19169.17it/s]\n"
     ]
    },
    {
     "name": "stdout",
     "output_type": "stream",
     "text": [
      "Loading Support Vector Classifier with params {'C': 0.1, 'kernel': 'linear'}\n"
     ]
    },
    {
     "name": "stderr",
     "output_type": "stream",
     "text": [
      "Vectorizing: 100%|██████████| 2396/2396 [00:00<00:00, 30670.58it/s]\n",
      "Vectorizing: 100%|██████████| 599/599 [00:00<00:00, 38336.00it/s]\n"
     ]
    },
    {
     "name": "stdout",
     "output_type": "stream",
     "text": [
      "Loading Support Vector Classifier with params {'C': 0.1, 'kernel': 'rbf'}\n"
     ]
    },
    {
     "name": "stderr",
     "output_type": "stream",
     "text": [
      "Vectorizing: 100%|██████████| 2396/2396 [00:00<00:00, 30514.59it/s]\n",
      "Vectorizing: 100%|██████████| 599/599 [00:00<00:00, 38340.68it/s]\n"
     ]
    },
    {
     "name": "stdout",
     "output_type": "stream",
     "text": [
      "Loading Support Vector Classifier with params {'C': 0.1, 'kernel': 'poly'}\n"
     ]
    },
    {
     "name": "stderr",
     "output_type": "stream",
     "text": [
      "Vectorizing: 100%|██████████| 2396/2396 [00:00<00:00, 32375.41it/s]\n",
      "Vectorizing: 100%|██████████| 599/599 [00:00<00:00, 20652.59it/s]\n"
     ]
    },
    {
     "name": "stdout",
     "output_type": "stream",
     "text": [
      "Loading Support Vector Classifier with params {'C': 0.1, 'kernel': 'sigmoid'}\n"
     ]
    },
    {
     "name": "stderr",
     "output_type": "stream",
     "text": [
      "Vectorizing: 100%|██████████| 2396/2396 [00:00<00:00, 29217.55it/s]\n",
      "Vectorizing: 100%|██████████| 599/599 [00:00<00:00, 31519.90it/s]\n"
     ]
    },
    {
     "name": "stdout",
     "output_type": "stream",
     "text": [
      "Loading Support Vector Classifier with params {'C': 0.01, 'kernel': 'linear'}\n"
     ]
    },
    {
     "name": "stderr",
     "output_type": "stream",
     "text": [
      "Vectorizing: 100%|██████████| 2396/2396 [00:00<00:00, 27225.12it/s]\n",
      "Vectorizing: 100%|██████████| 599/599 [00:00<00:00, 20650.90it/s]\n"
     ]
    },
    {
     "name": "stdout",
     "output_type": "stream",
     "text": [
      "Loading Support Vector Classifier with params {'C': 0.01, 'kernel': 'rbf'}\n"
     ]
    },
    {
     "name": "stderr",
     "output_type": "stream",
     "text": [
      "Vectorizing: 100%|██████████| 2396/2396 [00:00<00:00, 30718.49it/s]\n",
      "Vectorizing: 100%|██████████| 599/599 [00:00<00:00, 33277.55it/s]\n"
     ]
    },
    {
     "name": "stdout",
     "output_type": "stream",
     "text": [
      "Loading Support Vector Classifier with params {'C': 0.01, 'kernel': 'poly'}\n"
     ]
    },
    {
     "name": "stderr",
     "output_type": "stream",
     "text": [
      "Vectorizing: 100%|██████████| 2396/2396 [00:00<00:00, 25761.54it/s]\n",
      "Vectorizing: 100%|██████████| 599/599 [00:00<00:00, 27226.89it/s]\n"
     ]
    },
    {
     "name": "stdout",
     "output_type": "stream",
     "text": [
      "Loading Support Vector Classifier with params {'C': 0.01, 'kernel': 'sigmoid'}\n"
     ]
    },
    {
     "name": "stderr",
     "output_type": "stream",
     "text": [
      "Vectorizing: 100%|██████████| 2396/2396 [00:00<00:00, 27412.63it/s]\n",
      "Vectorizing: 100%|██████████| 599/599 [00:00<00:00, 38640.24it/s]\n"
     ]
    },
    {
     "name": "stdout",
     "output_type": "stream",
     "text": [
      "Loading Support Vector Classifier with params {'C': 10, 'kernel': 'linear'}\n"
     ]
    },
    {
     "name": "stderr",
     "output_type": "stream",
     "text": [
      "Vectorizing: 100%|██████████| 2396/2396 [00:00<00:00, 21906.24it/s]\n",
      "Vectorizing: 100%|██████████| 599/599 [00:00<00:00, 38347.70it/s]\n"
     ]
    },
    {
     "name": "stdout",
     "output_type": "stream",
     "text": [
      "Loading Support Vector Classifier with params {'C': 10, 'kernel': 'rbf'}\n"
     ]
    },
    {
     "name": "stderr",
     "output_type": "stream",
     "text": [
      "Vectorizing: 100%|██████████| 2396/2396 [00:00<00:00, 30671.98it/s]\n",
      "Vectorizing: 100%|██████████| 599/599 [00:00<00:00, 23656.02it/s]\n"
     ]
    },
    {
     "name": "stdout",
     "output_type": "stream",
     "text": [
      "Loading Support Vector Classifier with params {'C': 10, 'kernel': 'poly'}\n"
     ]
    },
    {
     "name": "stderr",
     "output_type": "stream",
     "text": [
      "Vectorizing: 100%|██████████| 2396/2396 [00:00<00:00, 30654.86it/s]\n",
      "Vectorizing: 100%|██████████| 599/599 [00:00<00:00, 38341.27it/s]\n"
     ]
    },
    {
     "name": "stdout",
     "output_type": "stream",
     "text": [
      "Loading Support Vector Classifier with params {'C': 10, 'kernel': 'sigmoid'}\n"
     ]
    },
    {
     "name": "stderr",
     "output_type": "stream",
     "text": [
      "Vectorizing: 100%|██████████| 2396/2396 [00:00<00:00, 25558.18it/s]\n",
      "Vectorizing: 100%|██████████| 599/599 [00:00<00:00, 38340.10it/s]\n"
     ]
    },
    {
     "name": "stdout",
     "output_type": "stream",
     "text": [
      "Loading Support Vector Classifier with params {'C': 100, 'kernel': 'linear'}\n"
     ]
    },
    {
     "name": "stderr",
     "output_type": "stream",
     "text": [
      "Vectorizing: 100%|██████████| 2396/2396 [00:00<00:00, 25096.71it/s]\n",
      "Vectorizing: 100%|██████████| 599/599 [00:00<00:00, 28526.20it/s]\n"
     ]
    },
    {
     "name": "stdout",
     "output_type": "stream",
     "text": [
      "Loading Support Vector Classifier with params {'C': 100, 'kernel': 'rbf'}\n"
     ]
    },
    {
     "name": "stderr",
     "output_type": "stream",
     "text": [
      "Vectorizing: 100%|██████████| 2396/2396 [00:00<00:00, 30716.70it/s]\n",
      "Vectorizing: 100%|██████████| 599/599 [00:00<00:00, 31525.44it/s]\n"
     ]
    },
    {
     "name": "stdout",
     "output_type": "stream",
     "text": [
      "Loading Support Vector Classifier with params {'C': 100, 'kernel': 'poly'}\n"
     ]
    },
    {
     "name": "stderr",
     "output_type": "stream",
     "text": [
      "Vectorizing: 100%|██████████| 2396/2396 [00:00<00:00, 31944.41it/s]\n",
      "Vectorizing: 100%|██████████| 599/599 [00:00<00:00, 33283.28it/s]\n"
     ]
    },
    {
     "name": "stdout",
     "output_type": "stream",
     "text": [
      "Loading Support Vector Classifier with params {'C': 100, 'kernel': 'sigmoid'}\n"
     ]
    },
    {
     "name": "stderr",
     "output_type": "stream",
     "text": [
      "Vectorizing: 100%|██████████| 2396/2396 [00:00<00:00, 34722.72it/s]\n",
      "Vectorizing: 100%|██████████| 599/599 [00:00<00:00, 33274.02it/s]\n"
     ]
    },
    {
     "name": "stdout",
     "output_type": "stream",
     "text": [
      "Loading Random Forest with params {'n_estimators': 100, 'max_depth': None}\n"
     ]
    },
    {
     "name": "stderr",
     "output_type": "stream",
     "text": [
      "Vectorizing: 100%|██████████| 2396/2396 [00:00<00:00, 32819.37it/s]\n",
      "Vectorizing: 100%|██████████| 599/599 [00:00<00:00, 29948.96it/s]\n"
     ]
    },
    {
     "name": "stdout",
     "output_type": "stream",
     "text": [
      "Loading Random Forest with params {'n_estimators': 100, 'max_depth': 5}\n"
     ]
    },
    {
     "name": "stderr",
     "output_type": "stream",
     "text": [
      "Vectorizing: 100%|██████████| 2396/2396 [00:00<00:00, 28186.33it/s]\n",
      "Vectorizing: 100%|██████████| 599/599 [00:00<00:00, 35235.87it/s]\n"
     ]
    },
    {
     "name": "stdout",
     "output_type": "stream",
     "text": [
      "Loading Random Forest with params {'n_estimators': 100, 'max_depth': 10}\n"
     ]
    },
    {
     "name": "stderr",
     "output_type": "stream",
     "text": [
      "Vectorizing: 100%|██████████| 2396/2396 [00:00<00:00, 33743.71it/s]\n",
      "Vectorizing: 100%|██████████| 599/599 [00:00<00:00, 33280.19it/s]\n"
     ]
    },
    {
     "name": "stdout",
     "output_type": "stream",
     "text": [
      "Loading Random Forest with params {'n_estimators': 100, 'max_depth': 20}\n"
     ]
    },
    {
     "name": "stderr",
     "output_type": "stream",
     "text": [
      "Vectorizing: 100%|██████████| 2396/2396 [00:00<00:00, 34226.16it/s]\n",
      "Vectorizing: 100%|██████████| 599/599 [00:00<00:00, 31520.29it/s]\n"
     ]
    },
    {
     "name": "stdout",
     "output_type": "stream",
     "text": [
      "Loading Random Forest with params {'n_estimators': 200, 'max_depth': None}\n"
     ]
    },
    {
     "name": "stderr",
     "output_type": "stream",
     "text": [
      "Vectorizing: 100%|██████████| 2396/2396 [00:00<00:00, 34226.27it/s]\n",
      "Vectorizing: 100%|██████████| 599/599 [00:00<00:00, 29949.67it/s]\n"
     ]
    },
    {
     "name": "stdout",
     "output_type": "stream",
     "text": [
      "Loading Random Forest with params {'n_estimators': 200, 'max_depth': 5}\n"
     ]
    },
    {
     "name": "stderr",
     "output_type": "stream",
     "text": [
      "Vectorizing: 100%|██████████| 2396/2396 [00:00<00:00, 38338.63it/s]\n",
      "Vectorizing: 100%|██████████| 599/599 [00:00<00:00, 38329.57it/s]\n"
     ]
    },
    {
     "name": "stdout",
     "output_type": "stream",
     "text": [
      "Loading Random Forest with params {'n_estimators': 200, 'max_depth': 10}\n"
     ]
    },
    {
     "name": "stderr",
     "output_type": "stream",
     "text": [
      "Vectorizing: 100%|██████████| 2396/2396 [00:00<00:00, 33274.57it/s]\n",
      "Vectorizing: 100%|██████████| 599/599 [00:00<00:00, 31532.56it/s]\n"
     ]
    },
    {
     "name": "stdout",
     "output_type": "stream",
     "text": [
      "Loading Random Forest with params {'n_estimators': 200, 'max_depth': 20}\n"
     ]
    },
    {
     "name": "stderr",
     "output_type": "stream",
     "text": [
      "Vectorizing: 100%|██████████| 2396/2396 [00:00<00:00, 30670.58it/s]\n",
      "Vectorizing: 100%|██████████| 599/599 [00:00<00:00, 38333.66it/s]\n"
     ]
    },
    {
     "name": "stdout",
     "output_type": "stream",
     "text": [
      "Loading Random Forest with params {'n_estimators': 500, 'max_depth': None}\n"
     ]
    },
    {
     "name": "stderr",
     "output_type": "stream",
     "text": [
      "Vectorizing: 100%|██████████| 2396/2396 [00:00<00:00, 38335.85it/s]\n",
      "Vectorizing: 100%|██████████| 599/599 [00:00<00:00, 19166.39it/s]\n"
     ]
    },
    {
     "name": "stdout",
     "output_type": "stream",
     "text": [
      "Loading Random Forest with params {'n_estimators': 500, 'max_depth': 5}\n"
     ]
    },
    {
     "name": "stderr",
     "output_type": "stream",
     "text": [
      "Vectorizing: 100%|██████████| 2396/2396 [00:00<00:00, 30668.24it/s]\n",
      "Vectorizing: 100%|██████████| 599/599 [00:00<00:00, 38345.95it/s]\n"
     ]
    },
    {
     "name": "stdout",
     "output_type": "stream",
     "text": [
      "Loading Random Forest with params {'n_estimators': 500, 'max_depth': 10}\n"
     ]
    },
    {
     "name": "stderr",
     "output_type": "stream",
     "text": [
      "Vectorizing: 100%|██████████| 2396/2396 [00:00<00:00, 38337.02it/s]\n",
      "Vectorizing: 100%|██████████| 599/599 [00:00<00:00, 38338.93it/s]\n"
     ]
    },
    {
     "name": "stdout",
     "output_type": "stream",
     "text": [
      "Loading Random Forest with params {'n_estimators': 500, 'max_depth': 20}\n"
     ]
    },
    {
     "name": "stderr",
     "output_type": "stream",
     "text": [
      "Vectorizing: 100%|██████████| 2396/2396 [00:00<00:00, 34226.04it/s]\n",
      "Vectorizing: 100%|██████████| 599/599 [00:00<00:00, 33277.10it/s]\n"
     ]
    },
    {
     "data": {
      "text/plain": [
       "              method                      model  \\\n",
       "0     Majority Class                        N/A   \n",
       "1             0-Shot                       BART   \n",
       "2             0-Shot                       BART   \n",
       "3             0-Shot                       BART   \n",
       "4             0-Shot                       BART   \n",
       "...              ...                        ...   \n",
       "1058        Word2Vec  Support Vector Classifier   \n",
       "1059        Word2Vec  Support Vector Classifier   \n",
       "1060        Word2Vec  Support Vector Classifier   \n",
       "1061        Word2Vec  Support Vector Classifier   \n",
       "1062        Word2Vec  Support Vector Classifier   \n",
       "\n",
       "                           parameters  accuracy    recall        f1  \n",
       "0                                  {}  0.949917  0.000000  0.000000  \n",
       "1                 {'threshold': 0.01}  0.293823  0.933333  0.116910  \n",
       "2                 {'threshold': 0.02}  0.345576  0.866667  0.117117  \n",
       "3                 {'threshold': 0.03}  0.407346  0.866667  0.127764  \n",
       "4                 {'threshold': 0.04}  0.447412  0.866667  0.135770  \n",
       "...                               ...       ...       ...       ...  \n",
       "1058   {'C': 10, 'kernel': 'sigmoid'}  0.924875  0.033333  0.042553  \n",
       "1059   {'C': 100, 'kernel': 'linear'}  0.949917  0.000000  0.000000  \n",
       "1060     {'C': 100, 'kernel': 'poly'}  0.933222  0.633333  0.487179  \n",
       "1061      {'C': 100, 'kernel': 'rbf'}  0.951586  0.433333  0.472727  \n",
       "1062  {'C': 100, 'kernel': 'sigmoid'}  0.923205  0.033333  0.041667  \n",
       "\n",
       "[1063 rows x 6 columns]"
      ],
      "text/html": [
       "<div>\n",
       "<style scoped>\n",
       "    .dataframe tbody tr th:only-of-type {\n",
       "        vertical-align: middle;\n",
       "    }\n",
       "\n",
       "    .dataframe tbody tr th {\n",
       "        vertical-align: top;\n",
       "    }\n",
       "\n",
       "    .dataframe thead th {\n",
       "        text-align: right;\n",
       "    }\n",
       "</style>\n",
       "<table border=\"1\" class=\"dataframe\">\n",
       "  <thead>\n",
       "    <tr style=\"text-align: right;\">\n",
       "      <th></th>\n",
       "      <th>method</th>\n",
       "      <th>model</th>\n",
       "      <th>parameters</th>\n",
       "      <th>accuracy</th>\n",
       "      <th>recall</th>\n",
       "      <th>f1</th>\n",
       "    </tr>\n",
       "  </thead>\n",
       "  <tbody>\n",
       "    <tr>\n",
       "      <th>0</th>\n",
       "      <td>Majority Class</td>\n",
       "      <td>N/A</td>\n",
       "      <td>{}</td>\n",
       "      <td>0.949917</td>\n",
       "      <td>0.000000</td>\n",
       "      <td>0.000000</td>\n",
       "    </tr>\n",
       "    <tr>\n",
       "      <th>1</th>\n",
       "      <td>0-Shot</td>\n",
       "      <td>BART</td>\n",
       "      <td>{'threshold': 0.01}</td>\n",
       "      <td>0.293823</td>\n",
       "      <td>0.933333</td>\n",
       "      <td>0.116910</td>\n",
       "    </tr>\n",
       "    <tr>\n",
       "      <th>2</th>\n",
       "      <td>0-Shot</td>\n",
       "      <td>BART</td>\n",
       "      <td>{'threshold': 0.02}</td>\n",
       "      <td>0.345576</td>\n",
       "      <td>0.866667</td>\n",
       "      <td>0.117117</td>\n",
       "    </tr>\n",
       "    <tr>\n",
       "      <th>3</th>\n",
       "      <td>0-Shot</td>\n",
       "      <td>BART</td>\n",
       "      <td>{'threshold': 0.03}</td>\n",
       "      <td>0.407346</td>\n",
       "      <td>0.866667</td>\n",
       "      <td>0.127764</td>\n",
       "    </tr>\n",
       "    <tr>\n",
       "      <th>4</th>\n",
       "      <td>0-Shot</td>\n",
       "      <td>BART</td>\n",
       "      <td>{'threshold': 0.04}</td>\n",
       "      <td>0.447412</td>\n",
       "      <td>0.866667</td>\n",
       "      <td>0.135770</td>\n",
       "    </tr>\n",
       "    <tr>\n",
       "      <th>...</th>\n",
       "      <td>...</td>\n",
       "      <td>...</td>\n",
       "      <td>...</td>\n",
       "      <td>...</td>\n",
       "      <td>...</td>\n",
       "      <td>...</td>\n",
       "    </tr>\n",
       "    <tr>\n",
       "      <th>1058</th>\n",
       "      <td>Word2Vec</td>\n",
       "      <td>Support Vector Classifier</td>\n",
       "      <td>{'C': 10, 'kernel': 'sigmoid'}</td>\n",
       "      <td>0.924875</td>\n",
       "      <td>0.033333</td>\n",
       "      <td>0.042553</td>\n",
       "    </tr>\n",
       "    <tr>\n",
       "      <th>1059</th>\n",
       "      <td>Word2Vec</td>\n",
       "      <td>Support Vector Classifier</td>\n",
       "      <td>{'C': 100, 'kernel': 'linear'}</td>\n",
       "      <td>0.949917</td>\n",
       "      <td>0.000000</td>\n",
       "      <td>0.000000</td>\n",
       "    </tr>\n",
       "    <tr>\n",
       "      <th>1060</th>\n",
       "      <td>Word2Vec</td>\n",
       "      <td>Support Vector Classifier</td>\n",
       "      <td>{'C': 100, 'kernel': 'poly'}</td>\n",
       "      <td>0.933222</td>\n",
       "      <td>0.633333</td>\n",
       "      <td>0.487179</td>\n",
       "    </tr>\n",
       "    <tr>\n",
       "      <th>1061</th>\n",
       "      <td>Word2Vec</td>\n",
       "      <td>Support Vector Classifier</td>\n",
       "      <td>{'C': 100, 'kernel': 'rbf'}</td>\n",
       "      <td>0.951586</td>\n",
       "      <td>0.433333</td>\n",
       "      <td>0.472727</td>\n",
       "    </tr>\n",
       "    <tr>\n",
       "      <th>1062</th>\n",
       "      <td>Word2Vec</td>\n",
       "      <td>Support Vector Classifier</td>\n",
       "      <td>{'C': 100, 'kernel': 'sigmoid'}</td>\n",
       "      <td>0.923205</td>\n",
       "      <td>0.033333</td>\n",
       "      <td>0.041667</td>\n",
       "    </tr>\n",
       "  </tbody>\n",
       "</table>\n",
       "<p>1063 rows × 6 columns</p>\n",
       "</div>"
      ]
     },
     "metadata": {},
     "output_type": "display_data"
    }
   ],
   "execution_count": 156
  },
  {
   "metadata": {
    "ExecuteTime": {
     "end_time": "2024-11-07T14:43:21.378122Z",
     "start_time": "2024-11-07T14:43:20.372600Z"
    }
   },
   "cell_type": "code",
   "source": [
    "def round_dict(d):\n",
    "    return {key: round(value, 2) if isinstance(value, (int, float)) else value \n",
    "                for key, value in d.items()}\n",
    "\n",
    "train_test = ca.get_train_test()\n",
    "evaluation_df = pd.read_csv('evaluation2.csv', na_values=[\"\"], keep_default_na=False)\n",
    "evaluation_df['parameters'] = evaluation_df['parameters'].apply(ast.literal_eval).apply(round_dict)\n",
    "results_df = ca.get_metrics(train_test, evaluation_df)\n",
    "display(results_df)"
   ],
   "id": "2a1ddd714bed3db",
   "outputs": [
    {
     "ename": "HTTPError",
     "evalue": "HTTP Error 403: Forbidden",
     "output_type": "error",
     "traceback": [
      "\u001B[1;31m---------------------------------------------------------------------------\u001B[0m",
      "\u001B[1;31mHTTPError\u001B[0m                                 Traceback (most recent call last)",
      "Cell \u001B[1;32mIn[20], line 5\u001B[0m\n\u001B[0;32m      1\u001B[0m \u001B[38;5;28;01mdef\u001B[39;00m \u001B[38;5;21mround_dict\u001B[39m(d):\n\u001B[0;32m      2\u001B[0m     \u001B[38;5;28;01mreturn\u001B[39;00m {key: \u001B[38;5;28mround\u001B[39m(value, \u001B[38;5;241m2\u001B[39m) \u001B[38;5;28;01mif\u001B[39;00m \u001B[38;5;28misinstance\u001B[39m(value, (\u001B[38;5;28mint\u001B[39m, \u001B[38;5;28mfloat\u001B[39m)) \u001B[38;5;28;01melse\u001B[39;00m value \n\u001B[0;32m      3\u001B[0m                 \u001B[38;5;28;01mfor\u001B[39;00m key, value \u001B[38;5;129;01min\u001B[39;00m d\u001B[38;5;241m.\u001B[39mitems()}\n\u001B[1;32m----> 5\u001B[0m train_test \u001B[38;5;241m=\u001B[39m \u001B[43mca\u001B[49m\u001B[38;5;241;43m.\u001B[39;49m\u001B[43mget_train_test\u001B[49m\u001B[43m(\u001B[49m\u001B[43m)\u001B[49m\n\u001B[0;32m      6\u001B[0m evaluation_df \u001B[38;5;241m=\u001B[39m pd\u001B[38;5;241m.\u001B[39mread_csv(\u001B[38;5;124m'\u001B[39m\u001B[38;5;124mevaluation2.csv\u001B[39m\u001B[38;5;124m'\u001B[39m, na_values\u001B[38;5;241m=\u001B[39m[\u001B[38;5;124m\"\u001B[39m\u001B[38;5;124m\"\u001B[39m], keep_default_na\u001B[38;5;241m=\u001B[39m\u001B[38;5;28;01mFalse\u001B[39;00m)\n\u001B[0;32m      7\u001B[0m evaluation_df[\u001B[38;5;124m'\u001B[39m\u001B[38;5;124mparameters\u001B[39m\u001B[38;5;124m'\u001B[39m] \u001B[38;5;241m=\u001B[39m evaluation_df[\u001B[38;5;124m'\u001B[39m\u001B[38;5;124mparameters\u001B[39m\u001B[38;5;124m'\u001B[39m]\u001B[38;5;241m.\u001B[39mapply(ast\u001B[38;5;241m.\u001B[39mliteral_eval)\u001B[38;5;241m.\u001B[39mapply(round_dict)\n",
      "File \u001B[1;32m~\\Projects\\EU-Contract-Hub\\exploratory_data_analysis\\NLP Authorities Model\\capackage\\evaluation_pipeline.py:19\u001B[0m, in \u001B[0;36mget_train_test\u001B[1;34m()\u001B[0m\n\u001B[0;32m     18\u001B[0m \u001B[38;5;28;01mdef\u001B[39;00m \u001B[38;5;21mget_train_test\u001B[39m():\n\u001B[1;32m---> 19\u001B[0m     df \u001B[38;5;241m=\u001B[39m \u001B[43mca\u001B[49m\u001B[38;5;241;43m.\u001B[39;49m\u001B[43mload_sparql_data\u001B[49m\u001B[43m(\u001B[49m\u001B[43m)\u001B[49m\n\u001B[0;32m     20\u001B[0m     df \u001B[38;5;241m=\u001B[39m ca\u001B[38;5;241m.\u001B[39mclean_wd_data(df)\n\u001B[0;32m     21\u001B[0m     \u001B[38;5;66;03m# Plot the class distribution\u001B[39;00m\n",
      "File \u001B[1;32m~\\Projects\\EU-Contract-Hub\\exploratory_data_analysis\\NLP Authorities Model\\capackage\\data_reconciliation.py:58\u001B[0m, in \u001B[0;36mload_sparql_data\u001B[1;34m()\u001B[0m\n\u001B[0;32m     56\u001B[0m sparql\u001B[38;5;241m.\u001B[39maddParameter(\u001B[38;5;124m\"\u001B[39m\u001B[38;5;124mUser-Agent\u001B[39m\u001B[38;5;124m\"\u001B[39m, \u001B[38;5;124m\"\u001B[39m\u001B[38;5;124mEU Contrach Hub Hospital Classification (alvarofontecha@upm.es)\u001B[39m\u001B[38;5;124m\"\u001B[39m)\n\u001B[0;32m     57\u001B[0m \u001B[38;5;66;03m# Execute the query and fetch results\u001B[39;00m\n\u001B[1;32m---> 58\u001B[0m results \u001B[38;5;241m=\u001B[39m \u001B[43msparql\u001B[49m\u001B[38;5;241;43m.\u001B[39;49m\u001B[43mquery\u001B[49m\u001B[43m(\u001B[49m\u001B[43m)\u001B[49m\u001B[38;5;241m.\u001B[39mconvert()\n\u001B[0;32m     60\u001B[0m \u001B[38;5;66;03m# Process the results into a list of dictionaries\u001B[39;00m\n\u001B[0;32m     61\u001B[0m wikidata_data \u001B[38;5;241m=\u001B[39m []\n",
      "File \u001B[1;32m~\\Projects\\EU-Contract-Hub\\venv\\Lib\\site-packages\\SPARQLWrapper\\Wrapper.py:960\u001B[0m, in \u001B[0;36mSPARQLWrapper.query\u001B[1;34m(self)\u001B[0m\n\u001B[0;32m    942\u001B[0m \u001B[38;5;28;01mdef\u001B[39;00m \u001B[38;5;21mquery\u001B[39m(\u001B[38;5;28mself\u001B[39m) \u001B[38;5;241m-\u001B[39m\u001B[38;5;241m>\u001B[39m \u001B[38;5;124m\"\u001B[39m\u001B[38;5;124mQueryResult\u001B[39m\u001B[38;5;124m\"\u001B[39m:\n\u001B[0;32m    943\u001B[0m \u001B[38;5;250m    \u001B[39m\u001B[38;5;124;03m\"\"\"\u001B[39;00m\n\u001B[0;32m    944\u001B[0m \u001B[38;5;124;03m    Execute the query.\u001B[39;00m\n\u001B[0;32m    945\u001B[0m \u001B[38;5;124;03m    Exceptions can be raised if either the URI is wrong or the HTTP sends back an error (this is also the\u001B[39;00m\n\u001B[1;32m   (...)\u001B[0m\n\u001B[0;32m    958\u001B[0m \u001B[38;5;124;03m    :rtype: :class:`QueryResult` instance\u001B[39;00m\n\u001B[0;32m    959\u001B[0m \u001B[38;5;124;03m    \"\"\"\u001B[39;00m\n\u001B[1;32m--> 960\u001B[0m     \u001B[38;5;28;01mreturn\u001B[39;00m QueryResult(\u001B[38;5;28;43mself\u001B[39;49m\u001B[38;5;241;43m.\u001B[39;49m\u001B[43m_query\u001B[49m\u001B[43m(\u001B[49m\u001B[43m)\u001B[49m)\n",
      "File \u001B[1;32m~\\Projects\\EU-Contract-Hub\\venv\\Lib\\site-packages\\SPARQLWrapper\\Wrapper.py:940\u001B[0m, in \u001B[0;36mSPARQLWrapper._query\u001B[1;34m(self)\u001B[0m\n\u001B[0;32m    938\u001B[0m     \u001B[38;5;28;01mraise\u001B[39;00m EndPointInternalError(e\u001B[38;5;241m.\u001B[39mread())\n\u001B[0;32m    939\u001B[0m \u001B[38;5;28;01melse\u001B[39;00m:\n\u001B[1;32m--> 940\u001B[0m     \u001B[38;5;28;01mraise\u001B[39;00m e\n",
      "File \u001B[1;32m~\\Projects\\EU-Contract-Hub\\venv\\Lib\\site-packages\\SPARQLWrapper\\Wrapper.py:926\u001B[0m, in \u001B[0;36mSPARQLWrapper._query\u001B[1;34m(self)\u001B[0m\n\u001B[0;32m    924\u001B[0m         response \u001B[38;5;241m=\u001B[39m urlopener(request, timeout\u001B[38;5;241m=\u001B[39m\u001B[38;5;28mself\u001B[39m\u001B[38;5;241m.\u001B[39mtimeout)\n\u001B[0;32m    925\u001B[0m     \u001B[38;5;28;01melse\u001B[39;00m:\n\u001B[1;32m--> 926\u001B[0m         response \u001B[38;5;241m=\u001B[39m \u001B[43murlopener\u001B[49m\u001B[43m(\u001B[49m\u001B[43mrequest\u001B[49m\u001B[43m)\u001B[49m\n\u001B[0;32m    927\u001B[0m     \u001B[38;5;28;01mreturn\u001B[39;00m response, \u001B[38;5;28mself\u001B[39m\u001B[38;5;241m.\u001B[39mreturnFormat\n\u001B[0;32m    928\u001B[0m \u001B[38;5;28;01mexcept\u001B[39;00m urllib\u001B[38;5;241m.\u001B[39merror\u001B[38;5;241m.\u001B[39mHTTPError \u001B[38;5;28;01mas\u001B[39;00m e:\n",
      "File \u001B[1;32m~\\AppData\\Local\\Programs\\Python\\Python312\\Lib\\urllib\\request.py:215\u001B[0m, in \u001B[0;36murlopen\u001B[1;34m(url, data, timeout, cafile, capath, cadefault, context)\u001B[0m\n\u001B[0;32m    213\u001B[0m \u001B[38;5;28;01melse\u001B[39;00m:\n\u001B[0;32m    214\u001B[0m     opener \u001B[38;5;241m=\u001B[39m _opener\n\u001B[1;32m--> 215\u001B[0m \u001B[38;5;28;01mreturn\u001B[39;00m \u001B[43mopener\u001B[49m\u001B[38;5;241;43m.\u001B[39;49m\u001B[43mopen\u001B[49m\u001B[43m(\u001B[49m\u001B[43murl\u001B[49m\u001B[43m,\u001B[49m\u001B[43m \u001B[49m\u001B[43mdata\u001B[49m\u001B[43m,\u001B[49m\u001B[43m \u001B[49m\u001B[43mtimeout\u001B[49m\u001B[43m)\u001B[49m\n",
      "File \u001B[1;32m~\\AppData\\Local\\Programs\\Python\\Python312\\Lib\\urllib\\request.py:521\u001B[0m, in \u001B[0;36mOpenerDirector.open\u001B[1;34m(self, fullurl, data, timeout)\u001B[0m\n\u001B[0;32m    519\u001B[0m \u001B[38;5;28;01mfor\u001B[39;00m processor \u001B[38;5;129;01min\u001B[39;00m \u001B[38;5;28mself\u001B[39m\u001B[38;5;241m.\u001B[39mprocess_response\u001B[38;5;241m.\u001B[39mget(protocol, []):\n\u001B[0;32m    520\u001B[0m     meth \u001B[38;5;241m=\u001B[39m \u001B[38;5;28mgetattr\u001B[39m(processor, meth_name)\n\u001B[1;32m--> 521\u001B[0m     response \u001B[38;5;241m=\u001B[39m \u001B[43mmeth\u001B[49m\u001B[43m(\u001B[49m\u001B[43mreq\u001B[49m\u001B[43m,\u001B[49m\u001B[43m \u001B[49m\u001B[43mresponse\u001B[49m\u001B[43m)\u001B[49m\n\u001B[0;32m    523\u001B[0m \u001B[38;5;28;01mreturn\u001B[39;00m response\n",
      "File \u001B[1;32m~\\AppData\\Local\\Programs\\Python\\Python312\\Lib\\urllib\\request.py:630\u001B[0m, in \u001B[0;36mHTTPErrorProcessor.http_response\u001B[1;34m(self, request, response)\u001B[0m\n\u001B[0;32m    627\u001B[0m \u001B[38;5;66;03m# According to RFC 2616, \"2xx\" code indicates that the client's\u001B[39;00m\n\u001B[0;32m    628\u001B[0m \u001B[38;5;66;03m# request was successfully received, understood, and accepted.\u001B[39;00m\n\u001B[0;32m    629\u001B[0m \u001B[38;5;28;01mif\u001B[39;00m \u001B[38;5;129;01mnot\u001B[39;00m (\u001B[38;5;241m200\u001B[39m \u001B[38;5;241m<\u001B[39m\u001B[38;5;241m=\u001B[39m code \u001B[38;5;241m<\u001B[39m \u001B[38;5;241m300\u001B[39m):\n\u001B[1;32m--> 630\u001B[0m     response \u001B[38;5;241m=\u001B[39m \u001B[38;5;28;43mself\u001B[39;49m\u001B[38;5;241;43m.\u001B[39;49m\u001B[43mparent\u001B[49m\u001B[38;5;241;43m.\u001B[39;49m\u001B[43merror\u001B[49m\u001B[43m(\u001B[49m\n\u001B[0;32m    631\u001B[0m \u001B[43m        \u001B[49m\u001B[38;5;124;43m'\u001B[39;49m\u001B[38;5;124;43mhttp\u001B[39;49m\u001B[38;5;124;43m'\u001B[39;49m\u001B[43m,\u001B[49m\u001B[43m \u001B[49m\u001B[43mrequest\u001B[49m\u001B[43m,\u001B[49m\u001B[43m \u001B[49m\u001B[43mresponse\u001B[49m\u001B[43m,\u001B[49m\u001B[43m \u001B[49m\u001B[43mcode\u001B[49m\u001B[43m,\u001B[49m\u001B[43m \u001B[49m\u001B[43mmsg\u001B[49m\u001B[43m,\u001B[49m\u001B[43m \u001B[49m\u001B[43mhdrs\u001B[49m\u001B[43m)\u001B[49m\n\u001B[0;32m    633\u001B[0m \u001B[38;5;28;01mreturn\u001B[39;00m response\n",
      "File \u001B[1;32m~\\AppData\\Local\\Programs\\Python\\Python312\\Lib\\urllib\\request.py:559\u001B[0m, in \u001B[0;36mOpenerDirector.error\u001B[1;34m(self, proto, *args)\u001B[0m\n\u001B[0;32m    557\u001B[0m \u001B[38;5;28;01mif\u001B[39;00m http_err:\n\u001B[0;32m    558\u001B[0m     args \u001B[38;5;241m=\u001B[39m (\u001B[38;5;28mdict\u001B[39m, \u001B[38;5;124m'\u001B[39m\u001B[38;5;124mdefault\u001B[39m\u001B[38;5;124m'\u001B[39m, \u001B[38;5;124m'\u001B[39m\u001B[38;5;124mhttp_error_default\u001B[39m\u001B[38;5;124m'\u001B[39m) \u001B[38;5;241m+\u001B[39m orig_args\n\u001B[1;32m--> 559\u001B[0m     \u001B[38;5;28;01mreturn\u001B[39;00m \u001B[38;5;28;43mself\u001B[39;49m\u001B[38;5;241;43m.\u001B[39;49m\u001B[43m_call_chain\u001B[49m\u001B[43m(\u001B[49m\u001B[38;5;241;43m*\u001B[39;49m\u001B[43margs\u001B[49m\u001B[43m)\u001B[49m\n",
      "File \u001B[1;32m~\\AppData\\Local\\Programs\\Python\\Python312\\Lib\\urllib\\request.py:492\u001B[0m, in \u001B[0;36mOpenerDirector._call_chain\u001B[1;34m(self, chain, kind, meth_name, *args)\u001B[0m\n\u001B[0;32m    490\u001B[0m \u001B[38;5;28;01mfor\u001B[39;00m handler \u001B[38;5;129;01min\u001B[39;00m handlers:\n\u001B[0;32m    491\u001B[0m     func \u001B[38;5;241m=\u001B[39m \u001B[38;5;28mgetattr\u001B[39m(handler, meth_name)\n\u001B[1;32m--> 492\u001B[0m     result \u001B[38;5;241m=\u001B[39m \u001B[43mfunc\u001B[49m\u001B[43m(\u001B[49m\u001B[38;5;241;43m*\u001B[39;49m\u001B[43margs\u001B[49m\u001B[43m)\u001B[49m\n\u001B[0;32m    493\u001B[0m     \u001B[38;5;28;01mif\u001B[39;00m result \u001B[38;5;129;01mis\u001B[39;00m \u001B[38;5;129;01mnot\u001B[39;00m \u001B[38;5;28;01mNone\u001B[39;00m:\n\u001B[0;32m    494\u001B[0m         \u001B[38;5;28;01mreturn\u001B[39;00m result\n",
      "File \u001B[1;32m~\\AppData\\Local\\Programs\\Python\\Python312\\Lib\\urllib\\request.py:639\u001B[0m, in \u001B[0;36mHTTPDefaultErrorHandler.http_error_default\u001B[1;34m(self, req, fp, code, msg, hdrs)\u001B[0m\n\u001B[0;32m    638\u001B[0m \u001B[38;5;28;01mdef\u001B[39;00m \u001B[38;5;21mhttp_error_default\u001B[39m(\u001B[38;5;28mself\u001B[39m, req, fp, code, msg, hdrs):\n\u001B[1;32m--> 639\u001B[0m     \u001B[38;5;28;01mraise\u001B[39;00m HTTPError(req\u001B[38;5;241m.\u001B[39mfull_url, code, msg, hdrs, fp)\n",
      "\u001B[1;31mHTTPError\u001B[0m: HTTP Error 403: Forbidden"
     ]
    }
   ],
   "execution_count": 20
  },
  {
   "metadata": {
    "ExecuteTime": {
     "end_time": "2024-11-07T09:17:04.711304100Z",
     "start_time": "2024-11-07T09:16:04.753802Z"
    }
   },
   "cell_type": "code",
   "source": [
    "#results_df = ca.get_metrics(train_tes\n",
    "# \n",
    "# t, evaluation_df)\n",
    "ca.get_analytics(results_df)"
   ],
   "id": "1b0152798317b270",
   "outputs": [
    {
     "ename": "NameError",
     "evalue": "name 'ca' is not defined",
     "output_type": "error",
     "traceback": [
      "\u001B[1;31m---------------------------------------------------------------------------\u001B[0m",
      "\u001B[1;31mNameError\u001B[0m                                 Traceback (most recent call last)",
      "Cell \u001B[1;32mIn[1], line 2\u001B[0m\n\u001B[0;32m      1\u001B[0m \u001B[38;5;66;03m#results_df = ca.get_metrics(train_test, evaluation_df)\u001B[39;00m\n\u001B[1;32m----> 2\u001B[0m \u001B[43mca\u001B[49m\u001B[38;5;241m.\u001B[39mget_analytics(results_df)\n",
      "\u001B[1;31mNameError\u001B[0m: name 'ca' is not defined"
     ]
    }
   ],
   "execution_count": 1
  },
  {
   "metadata": {},
   "cell_type": "code",
   "source": "",
   "id": "e7d042db1301d8f5",
   "outputs": [],
   "execution_count": null
  }
 ],
 "metadata": {
  "kernelspec": {
   "display_name": "Python 3",
   "language": "python",
   "name": "python3"
  },
  "language_info": {
   "codemirror_mode": {
    "name": "ipython",
    "version": 2
   },
   "file_extension": ".py",
   "mimetype": "text/x-python",
   "name": "python",
   "nbconvert_exporter": "python",
   "pygments_lexer": "ipython2",
   "version": "2.7.6"
  }
 },
 "nbformat": 4,
 "nbformat_minor": 5
}
