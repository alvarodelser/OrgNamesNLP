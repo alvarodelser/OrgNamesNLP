{
 "cells": [
  {
   "metadata": {
    "ExecuteTime": {
     "end_time": "2025-03-13T23:25:21.819917Z",
     "start_time": "2025-03-13T23:25:17.054691Z"
    }
   },
   "cell_type": "code",
   "source": [
    "import json\n",
    "\n",
    "from orgpackage.orchestrator import *\n",
    "import pandas as pd\n",
    "\n",
    "%load_ext autoreload\n",
    "%autoreload 2"
   ],
   "id": "d70d7636baf168ed",
   "outputs": [],
   "execution_count": 4
  },
  {
   "metadata": {
    "ExecuteTime": {
     "end_time": "2025-03-13T23:25:23.916111Z",
     "start_time": "2025-03-13T23:25:21.824576Z"
    }
   },
   "cell_type": "code",
   "source": [
    "data = load_dataset('./data/wikidata_enriched_dataset.csv')\n",
    "#train_medgov = data.copy()\n",
    "# test_medgov = load gold dataset\n",
    "train_medgov, test_medgov = sklearn.model_selection.train_test_split(data, test_size=0.5)\n",
    "train_edu, test_edu = sklearn.model_selection.train_test_split(data, test_size=0.2) # Only for edu domain. Higher volumes and not on EU Contract hub\n",
    "trains = {\n",
    "        'medical': train_medgov,\n",
    "        'administrative': train_medgov,\n",
    "        'education': train_edu\n",
    "    }\n",
    "tests = {\n",
    "        'medical': test_medgov,\n",
    "        'administrative': test_medgov,\n",
    "        'education': test_edu\n",
    "    }\n"
   ],
   "id": "dc0e76eaea8fc56d",
   "outputs": [],
   "execution_count": 5
  },
  {
   "metadata": {},
   "cell_type": "code",
   "source": "rulegen_orchestrator(trains)",
   "id": "83da9b601b7a843",
   "outputs": [],
   "execution_count": null
  },
  {
   "metadata": {},
   "cell_type": "code",
   "source": [
    "#display(tests['medgov'])\n",
    "nlieval_orchestrator(tests)"
   ],
   "id": "a35478fc9018d8fb",
   "outputs": [],
   "execution_count": null
  },
  {
   "metadata": {},
   "cell_type": "code",
   "source": [
    "\n",
    "pd.set_option('display.max_columns', None)\n",
    "display(tests['medgov'])"
   ],
   "id": "1dafe8a46c913fe8",
   "outputs": [],
   "execution_count": null
  },
  {
   "metadata": {
    "ExecuteTime": {
     "end_time": "2025-03-14T21:51:05.067545Z",
     "start_time": "2025-03-14T21:51:05.025373Z"
    }
   },
   "cell_type": "code",
   "source": [
    "import json\n",
    "import ast\n",
    "exps = pd.read_csv('./results/experiments_devllm.csv')\n",
    "exps = exps[exps['Method']!='few_shot']\n",
    "display(exps)\n",
    "exps.to_csv('./results/experiments_devllm.csv', index=False)\n",
    "#exps['Experiment'] = exps['Experiment'].apply(ast.literal_eval)\n",
    "#exps[\"f1\"] = exps[\"Experiment\"].apply(lambda x: x[\"f1\"])\n",
    "#exps[\"whitelist_lux\"] = exps[\"Experiment\"].apply(lambda x: x[\"parameters\"].get(\"whitelist_hospital\",{}).get(\"Q29\",[]))\n",
    "\n",
    "\n",
    "#print(exps.loc[0,'Experiment']['parameters'].keys())\n",
    "#filtered_df = exps[exps[\"Experiment\"].apply(lambda x: x.get(\"category\") == \"A\")]\n",
    "#exps = exps.loc[exps['Domain'] == 'medical']['Experiment']\n",
    "#for doc in exps:\n",
    "#    print(json.dumps(doc['parameters']['whitelist_university_hospitals']))"
   ],
   "id": "e8f2499311cc8bb6",
   "outputs": [
    {
     "data": {
      "text/plain": [
       "            Domain Technique  Method  \\\n",
       "0          medical       nli  0_shot   \n",
       "1          medical       nli  0_shot   \n",
       "2          medical       nli  0_shot   \n",
       "3          medical       nli  0_shot   \n",
       "4   administrative       nli  0_shot   \n",
       "5   administrative       nli  0_shot   \n",
       "6   administrative       nli  0_shot   \n",
       "7   administrative       nli  0_shot   \n",
       "8        education       nli  0_shot   \n",
       "9        education       nli  0_shot   \n",
       "10       education       nli  0_shot   \n",
       "11       education       nli  0_shot   \n",
       "12         medical       nli  1_shot   \n",
       "13         medical       nli  1_shot   \n",
       "14         medical       nli  1_shot   \n",
       "15         medical       nli  1_shot   \n",
       "20  administrative       nli  1_shot   \n",
       "21  administrative       nli  1_shot   \n",
       "22  administrative       nli  1_shot   \n",
       "23  administrative       nli  1_shot   \n",
       "28       education       nli  1_shot   \n",
       "29       education       nli  1_shot   \n",
       "30       education       nli  1_shot   \n",
       "31       education       nli  1_shot   \n",
       "\n",
       "                                           Experiment  Accuracy    Recall  \\\n",
       "0   {'id': 'med-n-0-0', 'structure': 'nested-class...  0.947551  0.742692   \n",
       "1   {'id': 'med-n-0-1', 'structure': 'nested-class...  0.967536  0.751862   \n",
       "2   {'id': 'med-n-0-2', 'structure': 'nested-class...  0.981976  0.603982   \n",
       "3   {'id': 'med-n-0-3', 'structure': 'nested-class...  0.559544  0.574555   \n",
       "4   {'id': 'adm-n-0-0', 'structure': '2-class', 'p...  0.897775  0.827844   \n",
       "5   {'id': 'adm-n-0-1', 'structure': '2-class', 'p...  0.915196  0.782249   \n",
       "6   {'id': 'adm-n-0-2', 'structure': '2-class', 'p...  0.845172  0.839777   \n",
       "7   {'id': 'adm-n-0-3', 'structure': '2-class', 'p...  0.695154  0.719649   \n",
       "8   {'id': 'edu-n-0-0', 'structure': '2-multiclass...  0.886189  0.548812   \n",
       "9   {'id': 'edu-n-0-1', 'structure': '2-multiclass...  0.897228  0.096807   \n",
       "10  {'id': 'edu-n-0-2', 'structure': '2-multiclass...  0.845705  0.694282   \n",
       "11  {'id': 'edu-n-0-3', 'structure': '2-multiclass...  0.884587  0.095962   \n",
       "12  {'id': 'med-n-1-0', 'structure': 'nested-class...  0.955670  0.028060   \n",
       "13  {'id': 'med-n-1-1', 'structure': 'nested-class...  0.958814  0.053504   \n",
       "14  {'id': 'med-n-1-2', 'structure': 'nested-class...  0.038567  0.499709   \n",
       "15  {'id': 'med-n-1-3', 'structure': 'nested-class...  0.000570  0.446660   \n",
       "20  {'id': 'adm-n-1-0', 'structure': '2-class', 'p...       NaN       NaN   \n",
       "21  {'id': 'adm-n-1-1', 'structure': '2-class', 'p...       NaN       NaN   \n",
       "22  {'id': 'adm-n-1-2', 'structure': '2-class', 'p...       NaN       NaN   \n",
       "23  {'id': 'adm-n-1-3', 'structure': '2-class', 'p...       NaN       NaN   \n",
       "28  {'id': 'edu-n-1-0', 'structure': '2-multiclass...       NaN       NaN   \n",
       "29  {'id': 'edu-n-1-1', 'structure': '2-multiclass...       NaN       NaN   \n",
       "30  {'id': 'edu-n-1-2', 'structure': '2-multiclass...       NaN       NaN   \n",
       "31  {'id': 'edu-n-1-3', 'structure': '2-multiclass...       NaN       NaN   \n",
       "\n",
       "          F1  \n",
       "0   0.402599  \n",
       "1   0.418139  \n",
       "2   0.514361  \n",
       "3   0.120606  \n",
       "4   0.768226  \n",
       "5   0.774079  \n",
       "6   0.714752  \n",
       "7   0.567738  \n",
       "8   0.514422  \n",
       "9   0.170230  \n",
       "10  0.494447  \n",
       "11  0.154520  \n",
       "12  0.044114  \n",
       "13  0.085067  \n",
       "14  0.036358  \n",
       "15  0.014273  \n",
       "20       NaN  \n",
       "21       NaN  \n",
       "22       NaN  \n",
       "23       NaN  \n",
       "28       NaN  \n",
       "29       NaN  \n",
       "30       NaN  \n",
       "31       NaN  "
      ],
      "text/html": [
       "<div>\n",
       "<style scoped>\n",
       "    .dataframe tbody tr th:only-of-type {\n",
       "        vertical-align: middle;\n",
       "    }\n",
       "\n",
       "    .dataframe tbody tr th {\n",
       "        vertical-align: top;\n",
       "    }\n",
       "\n",
       "    .dataframe thead th {\n",
       "        text-align: right;\n",
       "    }\n",
       "</style>\n",
       "<table border=\"1\" class=\"dataframe\">\n",
       "  <thead>\n",
       "    <tr style=\"text-align: right;\">\n",
       "      <th></th>\n",
       "      <th>Domain</th>\n",
       "      <th>Technique</th>\n",
       "      <th>Method</th>\n",
       "      <th>Experiment</th>\n",
       "      <th>Accuracy</th>\n",
       "      <th>Recall</th>\n",
       "      <th>F1</th>\n",
       "    </tr>\n",
       "  </thead>\n",
       "  <tbody>\n",
       "    <tr>\n",
       "      <th>0</th>\n",
       "      <td>medical</td>\n",
       "      <td>nli</td>\n",
       "      <td>0_shot</td>\n",
       "      <td>{'id': 'med-n-0-0', 'structure': 'nested-class...</td>\n",
       "      <td>0.947551</td>\n",
       "      <td>0.742692</td>\n",
       "      <td>0.402599</td>\n",
       "    </tr>\n",
       "    <tr>\n",
       "      <th>1</th>\n",
       "      <td>medical</td>\n",
       "      <td>nli</td>\n",
       "      <td>0_shot</td>\n",
       "      <td>{'id': 'med-n-0-1', 'structure': 'nested-class...</td>\n",
       "      <td>0.967536</td>\n",
       "      <td>0.751862</td>\n",
       "      <td>0.418139</td>\n",
       "    </tr>\n",
       "    <tr>\n",
       "      <th>2</th>\n",
       "      <td>medical</td>\n",
       "      <td>nli</td>\n",
       "      <td>0_shot</td>\n",
       "      <td>{'id': 'med-n-0-2', 'structure': 'nested-class...</td>\n",
       "      <td>0.981976</td>\n",
       "      <td>0.603982</td>\n",
       "      <td>0.514361</td>\n",
       "    </tr>\n",
       "    <tr>\n",
       "      <th>3</th>\n",
       "      <td>medical</td>\n",
       "      <td>nli</td>\n",
       "      <td>0_shot</td>\n",
       "      <td>{'id': 'med-n-0-3', 'structure': 'nested-class...</td>\n",
       "      <td>0.559544</td>\n",
       "      <td>0.574555</td>\n",
       "      <td>0.120606</td>\n",
       "    </tr>\n",
       "    <tr>\n",
       "      <th>4</th>\n",
       "      <td>administrative</td>\n",
       "      <td>nli</td>\n",
       "      <td>0_shot</td>\n",
       "      <td>{'id': 'adm-n-0-0', 'structure': '2-class', 'p...</td>\n",
       "      <td>0.897775</td>\n",
       "      <td>0.827844</td>\n",
       "      <td>0.768226</td>\n",
       "    </tr>\n",
       "    <tr>\n",
       "      <th>5</th>\n",
       "      <td>administrative</td>\n",
       "      <td>nli</td>\n",
       "      <td>0_shot</td>\n",
       "      <td>{'id': 'adm-n-0-1', 'structure': '2-class', 'p...</td>\n",
       "      <td>0.915196</td>\n",
       "      <td>0.782249</td>\n",
       "      <td>0.774079</td>\n",
       "    </tr>\n",
       "    <tr>\n",
       "      <th>6</th>\n",
       "      <td>administrative</td>\n",
       "      <td>nli</td>\n",
       "      <td>0_shot</td>\n",
       "      <td>{'id': 'adm-n-0-2', 'structure': '2-class', 'p...</td>\n",
       "      <td>0.845172</td>\n",
       "      <td>0.839777</td>\n",
       "      <td>0.714752</td>\n",
       "    </tr>\n",
       "    <tr>\n",
       "      <th>7</th>\n",
       "      <td>administrative</td>\n",
       "      <td>nli</td>\n",
       "      <td>0_shot</td>\n",
       "      <td>{'id': 'adm-n-0-3', 'structure': '2-class', 'p...</td>\n",
       "      <td>0.695154</td>\n",
       "      <td>0.719649</td>\n",
       "      <td>0.567738</td>\n",
       "    </tr>\n",
       "    <tr>\n",
       "      <th>8</th>\n",
       "      <td>education</td>\n",
       "      <td>nli</td>\n",
       "      <td>0_shot</td>\n",
       "      <td>{'id': 'edu-n-0-0', 'structure': '2-multiclass...</td>\n",
       "      <td>0.886189</td>\n",
       "      <td>0.548812</td>\n",
       "      <td>0.514422</td>\n",
       "    </tr>\n",
       "    <tr>\n",
       "      <th>9</th>\n",
       "      <td>education</td>\n",
       "      <td>nli</td>\n",
       "      <td>0_shot</td>\n",
       "      <td>{'id': 'edu-n-0-1', 'structure': '2-multiclass...</td>\n",
       "      <td>0.897228</td>\n",
       "      <td>0.096807</td>\n",
       "      <td>0.170230</td>\n",
       "    </tr>\n",
       "    <tr>\n",
       "      <th>10</th>\n",
       "      <td>education</td>\n",
       "      <td>nli</td>\n",
       "      <td>0_shot</td>\n",
       "      <td>{'id': 'edu-n-0-2', 'structure': '2-multiclass...</td>\n",
       "      <td>0.845705</td>\n",
       "      <td>0.694282</td>\n",
       "      <td>0.494447</td>\n",
       "    </tr>\n",
       "    <tr>\n",
       "      <th>11</th>\n",
       "      <td>education</td>\n",
       "      <td>nli</td>\n",
       "      <td>0_shot</td>\n",
       "      <td>{'id': 'edu-n-0-3', 'structure': '2-multiclass...</td>\n",
       "      <td>0.884587</td>\n",
       "      <td>0.095962</td>\n",
       "      <td>0.154520</td>\n",
       "    </tr>\n",
       "    <tr>\n",
       "      <th>12</th>\n",
       "      <td>medical</td>\n",
       "      <td>nli</td>\n",
       "      <td>1_shot</td>\n",
       "      <td>{'id': 'med-n-1-0', 'structure': 'nested-class...</td>\n",
       "      <td>0.955670</td>\n",
       "      <td>0.028060</td>\n",
       "      <td>0.044114</td>\n",
       "    </tr>\n",
       "    <tr>\n",
       "      <th>13</th>\n",
       "      <td>medical</td>\n",
       "      <td>nli</td>\n",
       "      <td>1_shot</td>\n",
       "      <td>{'id': 'med-n-1-1', 'structure': 'nested-class...</td>\n",
       "      <td>0.958814</td>\n",
       "      <td>0.053504</td>\n",
       "      <td>0.085067</td>\n",
       "    </tr>\n",
       "    <tr>\n",
       "      <th>14</th>\n",
       "      <td>medical</td>\n",
       "      <td>nli</td>\n",
       "      <td>1_shot</td>\n",
       "      <td>{'id': 'med-n-1-2', 'structure': 'nested-class...</td>\n",
       "      <td>0.038567</td>\n",
       "      <td>0.499709</td>\n",
       "      <td>0.036358</td>\n",
       "    </tr>\n",
       "    <tr>\n",
       "      <th>15</th>\n",
       "      <td>medical</td>\n",
       "      <td>nli</td>\n",
       "      <td>1_shot</td>\n",
       "      <td>{'id': 'med-n-1-3', 'structure': 'nested-class...</td>\n",
       "      <td>0.000570</td>\n",
       "      <td>0.446660</td>\n",
       "      <td>0.014273</td>\n",
       "    </tr>\n",
       "    <tr>\n",
       "      <th>20</th>\n",
       "      <td>administrative</td>\n",
       "      <td>nli</td>\n",
       "      <td>1_shot</td>\n",
       "      <td>{'id': 'adm-n-1-0', 'structure': '2-class', 'p...</td>\n",
       "      <td>NaN</td>\n",
       "      <td>NaN</td>\n",
       "      <td>NaN</td>\n",
       "    </tr>\n",
       "    <tr>\n",
       "      <th>21</th>\n",
       "      <td>administrative</td>\n",
       "      <td>nli</td>\n",
       "      <td>1_shot</td>\n",
       "      <td>{'id': 'adm-n-1-1', 'structure': '2-class', 'p...</td>\n",
       "      <td>NaN</td>\n",
       "      <td>NaN</td>\n",
       "      <td>NaN</td>\n",
       "    </tr>\n",
       "    <tr>\n",
       "      <th>22</th>\n",
       "      <td>administrative</td>\n",
       "      <td>nli</td>\n",
       "      <td>1_shot</td>\n",
       "      <td>{'id': 'adm-n-1-2', 'structure': '2-class', 'p...</td>\n",
       "      <td>NaN</td>\n",
       "      <td>NaN</td>\n",
       "      <td>NaN</td>\n",
       "    </tr>\n",
       "    <tr>\n",
       "      <th>23</th>\n",
       "      <td>administrative</td>\n",
       "      <td>nli</td>\n",
       "      <td>1_shot</td>\n",
       "      <td>{'id': 'adm-n-1-3', 'structure': '2-class', 'p...</td>\n",
       "      <td>NaN</td>\n",
       "      <td>NaN</td>\n",
       "      <td>NaN</td>\n",
       "    </tr>\n",
       "    <tr>\n",
       "      <th>28</th>\n",
       "      <td>education</td>\n",
       "      <td>nli</td>\n",
       "      <td>1_shot</td>\n",
       "      <td>{'id': 'edu-n-1-0', 'structure': '2-multiclass...</td>\n",
       "      <td>NaN</td>\n",
       "      <td>NaN</td>\n",
       "      <td>NaN</td>\n",
       "    </tr>\n",
       "    <tr>\n",
       "      <th>29</th>\n",
       "      <td>education</td>\n",
       "      <td>nli</td>\n",
       "      <td>1_shot</td>\n",
       "      <td>{'id': 'edu-n-1-1', 'structure': '2-multiclass...</td>\n",
       "      <td>NaN</td>\n",
       "      <td>NaN</td>\n",
       "      <td>NaN</td>\n",
       "    </tr>\n",
       "    <tr>\n",
       "      <th>30</th>\n",
       "      <td>education</td>\n",
       "      <td>nli</td>\n",
       "      <td>1_shot</td>\n",
       "      <td>{'id': 'edu-n-1-2', 'structure': '2-multiclass...</td>\n",
       "      <td>NaN</td>\n",
       "      <td>NaN</td>\n",
       "      <td>NaN</td>\n",
       "    </tr>\n",
       "    <tr>\n",
       "      <th>31</th>\n",
       "      <td>education</td>\n",
       "      <td>nli</td>\n",
       "      <td>1_shot</td>\n",
       "      <td>{'id': 'edu-n-1-3', 'structure': '2-multiclass...</td>\n",
       "      <td>NaN</td>\n",
       "      <td>NaN</td>\n",
       "      <td>NaN</td>\n",
       "    </tr>\n",
       "  </tbody>\n",
       "</table>\n",
       "</div>"
      ]
     },
     "metadata": {},
     "output_type": "display_data"
    }
   ],
   "execution_count": 18
  },
  {
   "metadata": {
    "ExecuteTime": {
     "end_time": "2025-03-14T00:28:06.221287Z",
     "start_time": "2025-03-14T00:28:05.708613Z"
    }
   },
   "cell_type": "code",
   "source": "llm_prompter(trains)",
   "id": "fefed3240eb269aa",
   "outputs": [],
   "execution_count": 8
  },
  {
   "metadata": {
    "ExecuteTime": {
     "end_time": "2025-03-15T13:20:38.896878Z",
     "start_time": "2025-03-15T11:23:07.738065Z"
    }
   },
   "cell_type": "code",
   "source": [
    "\n",
    "nlieval_orchestrator(tests)"
   ],
   "id": "ed662490c80ef2e8",
   "outputs": [
    {
     "name": "stderr",
     "output_type": "stream",
     "text": [
      "Some weights of the model checkpoint at joeddav/xlm-roberta-large-xnli were not used when initializing XLMRobertaForSequenceClassification: ['roberta.pooler.dense.bias', 'roberta.pooler.dense.weight']\n",
      "- This IS expected if you are initializing XLMRobertaForSequenceClassification from the checkpoint of a model trained on another task or with another architecture (e.g. initializing a BertForSequenceClassification model from a BertForPreTraining model).\n",
      "- This IS NOT expected if you are initializing XLMRobertaForSequenceClassification from the checkpoint of a model that you expect to be exactly identical (initializing a BertForSequenceClassification model from a BertForSequenceClassification model).\n"
     ]
    },
    {
     "name": "stdout",
     "output_type": "stream",
     "text": [
      "Loading model: roberta-large\n"
     ]
    },
    {
     "name": "stderr",
     "output_type": "stream",
     "text": [
      "Device set to use mps:0\n"
     ]
    },
    {
     "name": "stdout",
     "output_type": "stream",
     "text": [
      "education_roberta-large\n"
     ]
    },
    {
     "name": "stderr",
     "output_type": "stream",
     "text": [
      "Classifying organizations: 100%|██████████| 36508/36508 [38:55<00:00, 15.63organization/s]\n"
     ]
    },
    {
     "name": "stdout",
     "output_type": "stream",
     "text": [
      "Loading model: bge-m3\n"
     ]
    },
    {
     "name": "stderr",
     "output_type": "stream",
     "text": [
      "Device set to use mps:0\n"
     ]
    },
    {
     "name": "stdout",
     "output_type": "stream",
     "text": [
      "education_bge-m3\n"
     ]
    },
    {
     "name": "stderr",
     "output_type": "stream",
     "text": [
      "Classifying organizations: 100%|██████████| 36508/36508 [39:03<00:00, 15.58organization/s]\n"
     ]
    },
    {
     "name": "stdout",
     "output_type": "stream",
     "text": [
      "Loading model: mDeBerta\n"
     ]
    },
    {
     "name": "stderr",
     "output_type": "stream",
     "text": [
      "Device set to use mps:0\n"
     ]
    },
    {
     "name": "stdout",
     "output_type": "stream",
     "text": [
      "education_mDeBerta\n"
     ]
    },
    {
     "name": "stderr",
     "output_type": "stream",
     "text": [
      "Classifying organizations: 100%|██████████| 36508/36508 [29:33<00:00, 20.59organization/s]\n"
     ]
    },
    {
     "name": "stdout",
     "output_type": "stream",
     "text": [
      "Loading model: MiniLM\n"
     ]
    },
    {
     "name": "stderr",
     "output_type": "stream",
     "text": [
      "Device set to use mps:0\n"
     ]
    },
    {
     "name": "stdout",
     "output_type": "stream",
     "text": [
      "education_MiniLM\n"
     ]
    },
    {
     "name": "stderr",
     "output_type": "stream",
     "text": [
      "Classifying organizations: 100%|██████████| 36508/36508 [09:35<00:00, 63.49organization/s]\n"
     ]
    }
   ],
   "execution_count": 20
  },
  {
   "metadata": {},
   "cell_type": "code",
   "source": [
    "\n",
    "\n",
    " "
   ],
   "id": "15a6f8d396649fbd",
   "outputs": [],
   "execution_count": null
  }
 ],
 "metadata": {
  "kernelspec": {
   "display_name": "Python 3",
   "language": "python",
   "name": "python3"
  },
  "language_info": {
   "codemirror_mode": {
    "name": "ipython",
    "version": 2
   },
   "file_extension": ".py",
   "mimetype": "text/x-python",
   "name": "python",
   "nbconvert_exporter": "python",
   "pygments_lexer": "ipython2",
   "version": "2.7.6"
  }
 },
 "nbformat": 4,
 "nbformat_minor": 5
}
